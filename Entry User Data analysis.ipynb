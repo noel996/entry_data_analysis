{
 "cells": [
  {
   "cell_type": "markdown",
   "id": "f8f10179",
   "metadata": {},
   "source": [
    "## User Data Analysis"
   ]
  },
  {
   "cell_type": "code",
   "execution_count": 1,
   "id": "0cb25d8e",
   "metadata": {},
   "outputs": [],
   "source": [
    "import pandas as pd\n",
    "import numpy as np\n",
    "import matplotlib.pyplot as plt\n",
    "import re\n",
    "import seaborn as sns"
   ]
  },
  {
   "cell_type": "markdown",
   "id": "38188452",
   "metadata": {},
   "source": [
    "## User Details"
   ]
  },
  {
   "cell_type": "code",
   "execution_count": 2,
   "id": "942cdd46",
   "metadata": {},
   "outputs": [],
   "source": [
    "user_details_org = pd.read_csv('user_purchase_data.csv')"
   ]
  },
  {
   "cell_type": "code",
   "execution_count": 3,
   "id": "6beaa195",
   "metadata": {},
   "outputs": [],
   "source": [
    "user_details = user_details_org"
   ]
  },
  {
   "cell_type": "code",
   "execution_count": 4,
   "id": "1dbd4abb",
   "metadata": {},
   "outputs": [
    {
     "data": {
      "text/html": [
       "<div>\n",
       "<style scoped>\n",
       "    .dataframe tbody tr th:only-of-type {\n",
       "        vertical-align: middle;\n",
       "    }\n",
       "\n",
       "    .dataframe tbody tr th {\n",
       "        vertical-align: top;\n",
       "    }\n",
       "\n",
       "    .dataframe thead th {\n",
       "        text-align: right;\n",
       "    }\n",
       "</style>\n",
       "<table border=\"1\" class=\"dataframe\">\n",
       "  <thead>\n",
       "    <tr style=\"text-align: right;\">\n",
       "      <th></th>\n",
       "      <th>user_uid</th>\n",
       "      <th>date_joined</th>\n",
       "      <th>date_of_first_purhcase</th>\n",
       "    </tr>\n",
       "  </thead>\n",
       "  <tbody>\n",
       "    <tr>\n",
       "      <th>0</th>\n",
       "      <td>6</td>\n",
       "      <td>2021-06-04</td>\n",
       "      <td>2021-06-04</td>\n",
       "    </tr>\n",
       "    <tr>\n",
       "      <th>1</th>\n",
       "      <td>608</td>\n",
       "      <td>2021-06-04</td>\n",
       "      <td>NaN</td>\n",
       "    </tr>\n",
       "    <tr>\n",
       "      <th>2</th>\n",
       "      <td>635</td>\n",
       "      <td>2021-06-04</td>\n",
       "      <td>NaN</td>\n",
       "    </tr>\n",
       "    <tr>\n",
       "      <th>3</th>\n",
       "      <td>745</td>\n",
       "      <td>2021-06-04</td>\n",
       "      <td>NaN</td>\n",
       "    </tr>\n",
       "    <tr>\n",
       "      <th>4</th>\n",
       "      <td>1506</td>\n",
       "      <td>2021-06-04</td>\n",
       "      <td>NaN</td>\n",
       "    </tr>\n",
       "  </tbody>\n",
       "</table>\n",
       "</div>"
      ],
      "text/plain": [
       "   user_uid date_joined date_of_first_purhcase\n",
       "0         6  2021-06-04             2021-06-04\n",
       "1       608  2021-06-04                    NaN\n",
       "2       635  2021-06-04                    NaN\n",
       "3       745  2021-06-04                    NaN\n",
       "4      1506  2021-06-04                    NaN"
      ]
     },
     "execution_count": 4,
     "metadata": {},
     "output_type": "execute_result"
    }
   ],
   "source": [
    "user_details.head()"
   ]
  },
  {
   "cell_type": "markdown",
   "id": "97427b0d",
   "metadata": {},
   "source": [
    "asuming the user_uid that have date_of_first_purhcase are paid users, created a boolean varible purchased"
   ]
  },
  {
   "cell_type": "code",
   "execution_count": 5,
   "id": "80174bda",
   "metadata": {},
   "outputs": [],
   "source": [
    "user_details[['paid_user']]=user_details[['date_of_first_purhcase']].notnull()"
   ]
  },
  {
   "cell_type": "code",
   "execution_count": 6,
   "id": "69be1485",
   "metadata": {},
   "outputs": [
    {
     "data": {
      "text/plain": [
       "True     576\n",
       "False    424\n",
       "Name: paid_user, dtype: int64"
      ]
     },
     "execution_count": 6,
     "metadata": {},
     "output_type": "execute_result"
    }
   ],
   "source": [
    "user_details.paid_user.value_counts()"
   ]
  },
  {
   "cell_type": "code",
   "execution_count": 7,
   "id": "e5abab7b",
   "metadata": {},
   "outputs": [
    {
     "data": {
      "image/png": "[encoded data removed]",
      "text/plain": [
       "<Figure size 432x288 with 1 Axes>"
      ]
     },
     "metadata": {
      "needs_background": "light"
     },
     "output_type": "display_data"
    }
   ],
   "source": [
    "user = ['Paid','Unpaid']\n",
    "plt.bar(user,user_details.paid_user.value_counts(),color = 'maroon',width = 0.4)\n",
    "plt.title(\"Distribution of Users\")\n",
    "plt.xlabel(\"User\")\n",
    "plt.ylabel(\"Count\")\n",
    "\n",
    "for index, value in enumerate(user_details.paid_user.value_counts()):\n",
    "    plt.text(index, value, str(value))\n",
    "\n",
    "plt.title\n",
    "plt.show()"
   ]
  },
  {
   "cell_type": "markdown",
   "id": "dfd30070",
   "metadata": {},
   "source": [
    "There are 576 paid users and 424 unpaid users"
   ]
  },
  {
   "cell_type": "code",
   "execution_count": 8,
   "id": "8643a2ae",
   "metadata": {},
   "outputs": [],
   "source": [
    "# convert object to date\n",
    "user_details['date_joined'] = pd.to_datetime(user_details.date_joined)\n",
    "user_details['date_of_first_purhcase']=pd.to_datetime(user_details.date_of_first_purhcase)\n",
    "user_details['date_diff'] = abs(user_details.date_of_first_purhcase - user_details.date_joined)"
   ]
  },
  {
   "cell_type": "code",
   "execution_count": 9,
   "id": "b9cb90e1",
   "metadata": {},
   "outputs": [
    {
     "data": {
      "text/html": [
       "<div>\n",
       "<style scoped>\n",
       "    .dataframe tbody tr th:only-of-type {\n",
       "        vertical-align: middle;\n",
       "    }\n",
       "\n",
       "    .dataframe tbody tr th {\n",
       "        vertical-align: top;\n",
       "    }\n",
       "\n",
       "    .dataframe thead th {\n",
       "        text-align: right;\n",
       "    }\n",
       "</style>\n",
       "<table border=\"1\" class=\"dataframe\">\n",
       "  <thead>\n",
       "    <tr style=\"text-align: right;\">\n",
       "      <th></th>\n",
       "      <th>user_uid</th>\n",
       "      <th>date_joined</th>\n",
       "      <th>date_of_first_purhcase</th>\n",
       "      <th>paid_user</th>\n",
       "      <th>date_diff</th>\n",
       "    </tr>\n",
       "  </thead>\n",
       "  <tbody>\n",
       "    <tr>\n",
       "      <th>0</th>\n",
       "      <td>6</td>\n",
       "      <td>2021-06-04</td>\n",
       "      <td>2021-06-04</td>\n",
       "      <td>True</td>\n",
       "      <td>0 days</td>\n",
       "    </tr>\n",
       "    <tr>\n",
       "      <th>1</th>\n",
       "      <td>608</td>\n",
       "      <td>2021-06-04</td>\n",
       "      <td>NaT</td>\n",
       "      <td>False</td>\n",
       "      <td>NaT</td>\n",
       "    </tr>\n",
       "    <tr>\n",
       "      <th>2</th>\n",
       "      <td>635</td>\n",
       "      <td>2021-06-04</td>\n",
       "      <td>NaT</td>\n",
       "      <td>False</td>\n",
       "      <td>NaT</td>\n",
       "    </tr>\n",
       "    <tr>\n",
       "      <th>3</th>\n",
       "      <td>745</td>\n",
       "      <td>2021-06-04</td>\n",
       "      <td>NaT</td>\n",
       "      <td>False</td>\n",
       "      <td>NaT</td>\n",
       "    </tr>\n",
       "    <tr>\n",
       "      <th>4</th>\n",
       "      <td>1506</td>\n",
       "      <td>2021-06-04</td>\n",
       "      <td>NaT</td>\n",
       "      <td>False</td>\n",
       "      <td>NaT</td>\n",
       "    </tr>\n",
       "  </tbody>\n",
       "</table>\n",
       "</div>"
      ],
      "text/plain": [
       "   user_uid date_joined date_of_first_purhcase  paid_user date_diff\n",
       "0         6  2021-06-04             2021-06-04       True    0 days\n",
       "1       608  2021-06-04                    NaT      False       NaT\n",
       "2       635  2021-06-04                    NaT      False       NaT\n",
       "3       745  2021-06-04                    NaT      False       NaT\n",
       "4      1506  2021-06-04                    NaT      False       NaT"
      ]
     },
     "execution_count": 9,
     "metadata": {},
     "output_type": "execute_result"
    }
   ],
   "source": [
    "user_details.head()"
   ]
  },
  {
   "cell_type": "code",
   "execution_count": 10,
   "id": "b510bf59",
   "metadata": {},
   "outputs": [],
   "source": [
    "user_details['ddiff'] = user_details.date_diff.dt.days"
   ]
  },
  {
   "cell_type": "code",
   "execution_count": 11,
   "id": "77ddc090",
   "metadata": {},
   "outputs": [],
   "source": [
    "def w(row):\n",
    "    if row['ddiff']>=0 and row['ddiff']<=7:\n",
    "        val = 'Week 1'\n",
    "    elif row['ddiff']>=8 and row['ddiff']<=14:\n",
    "        val = 'Week 2'\n",
    "    elif row['ddiff']>=15 and row['ddiff']<=21:\n",
    "        val = 'Week 3'\n",
    "    elif row['ddiff']>=22 and row['ddiff']<=28:\n",
    "        val = 'Week 4'\n",
    "    else:val = 'After a Month'\n",
    "    return val"
   ]
  },
  {
   "cell_type": "code",
   "execution_count": 12,
   "id": "89696205",
   "metadata": {},
   "outputs": [],
   "source": [
    "user_details['paid_user_from'] = user_details[user_details.paid_user==True].apply(w,axis = 1)"
   ]
  },
  {
   "cell_type": "code",
   "execution_count": 13,
   "id": "a51b1132",
   "metadata": {},
   "outputs": [
    {
     "data": {
      "text/html": [
       "<div>\n",
       "<style scoped>\n",
       "    .dataframe tbody tr th:only-of-type {\n",
       "        vertical-align: middle;\n",
       "    }\n",
       "\n",
       "    .dataframe tbody tr th {\n",
       "        vertical-align: top;\n",
       "    }\n",
       "\n",
       "    .dataframe thead th {\n",
       "        text-align: right;\n",
       "    }\n",
       "</style>\n",
       "<table border=\"1\" class=\"dataframe\">\n",
       "  <thead>\n",
       "    <tr style=\"text-align: right;\">\n",
       "      <th></th>\n",
       "      <th>user_uid</th>\n",
       "      <th>date_joined</th>\n",
       "      <th>date_of_first_purhcase</th>\n",
       "      <th>paid_user</th>\n",
       "      <th>date_diff</th>\n",
       "      <th>ddiff</th>\n",
       "      <th>paid_user_from</th>\n",
       "    </tr>\n",
       "  </thead>\n",
       "  <tbody>\n",
       "    <tr>\n",
       "      <th>0</th>\n",
       "      <td>6</td>\n",
       "      <td>2021-06-04</td>\n",
       "      <td>2021-06-04</td>\n",
       "      <td>True</td>\n",
       "      <td>0 days</td>\n",
       "      <td>0.0</td>\n",
       "      <td>Week 1</td>\n",
       "    </tr>\n",
       "    <tr>\n",
       "      <th>1</th>\n",
       "      <td>608</td>\n",
       "      <td>2021-06-04</td>\n",
       "      <td>NaT</td>\n",
       "      <td>False</td>\n",
       "      <td>NaT</td>\n",
       "      <td>NaN</td>\n",
       "      <td>NaN</td>\n",
       "    </tr>\n",
       "    <tr>\n",
       "      <th>2</th>\n",
       "      <td>635</td>\n",
       "      <td>2021-06-04</td>\n",
       "      <td>NaT</td>\n",
       "      <td>False</td>\n",
       "      <td>NaT</td>\n",
       "      <td>NaN</td>\n",
       "      <td>NaN</td>\n",
       "    </tr>\n",
       "    <tr>\n",
       "      <th>3</th>\n",
       "      <td>745</td>\n",
       "      <td>2021-06-04</td>\n",
       "      <td>NaT</td>\n",
       "      <td>False</td>\n",
       "      <td>NaT</td>\n",
       "      <td>NaN</td>\n",
       "      <td>NaN</td>\n",
       "    </tr>\n",
       "    <tr>\n",
       "      <th>4</th>\n",
       "      <td>1506</td>\n",
       "      <td>2021-06-04</td>\n",
       "      <td>NaT</td>\n",
       "      <td>False</td>\n",
       "      <td>NaT</td>\n",
       "      <td>NaN</td>\n",
       "      <td>NaN</td>\n",
       "    </tr>\n",
       "  </tbody>\n",
       "</table>\n",
       "</div>"
      ],
      "text/plain": [
       "   user_uid date_joined date_of_first_purhcase  paid_user date_diff  ddiff  \\\n",
       "0         6  2021-06-04             2021-06-04       True    0 days    0.0   \n",
       "1       608  2021-06-04                    NaT      False       NaT    NaN   \n",
       "2       635  2021-06-04                    NaT      False       NaT    NaN   \n",
       "3       745  2021-06-04                    NaT      False       NaT    NaN   \n",
       "4      1506  2021-06-04                    NaT      False       NaT    NaN   \n",
       "\n",
       "  paid_user_from  \n",
       "0         Week 1  \n",
       "1            NaN  \n",
       "2            NaN  \n",
       "3            NaN  \n",
       "4            NaN  "
      ]
     },
     "execution_count": 13,
     "metadata": {},
     "output_type": "execute_result"
    }
   ],
   "source": [
    "user_details.head()"
   ]
  },
  {
   "cell_type": "code",
   "execution_count": 14,
   "id": "bd10f4e7",
   "metadata": {},
   "outputs": [
    {
     "data": {
      "text/plain": [
       "(1000, 7)"
      ]
     },
     "execution_count": 14,
     "metadata": {},
     "output_type": "execute_result"
    }
   ],
   "source": [
    "user_details.shape"
   ]
  },
  {
   "cell_type": "code",
   "execution_count": 15,
   "id": "2c84c7c8",
   "metadata": {},
   "outputs": [],
   "source": [
    "paid_user_in_weeks = user_details.paid_user_from.value_counts()"
   ]
  },
  {
   "cell_type": "code",
   "execution_count": 16,
   "id": "fe3cc4bf",
   "metadata": {},
   "outputs": [
    {
     "data": {
      "text/plain": [
       "Week 1           490\n",
       "Week 2            38\n",
       "Week 3            24\n",
       "Week 4            13\n",
       "After a Month     11\n",
       "Name: paid_user_from, dtype: int64"
      ]
     },
     "execution_count": 16,
     "metadata": {},
     "output_type": "execute_result"
    }
   ],
   "source": [
    "paid_user_in_weeks"
   ]
  },
  {
   "cell_type": "code",
   "execution_count": 17,
   "id": "7cb9cc59",
   "metadata": {},
   "outputs": [
    {
     "data": {
      "image/png": "[encoded data removed]",
      "text/plain": [
       "<Figure size 640x320 with 1 Axes>"
      ]
     },
     "metadata": {
      "needs_background": "light"
     },
     "output_type": "display_data"
    }
   ],
   "source": [
    "plt.figure(figsize=(8,4), dpi=80)\n",
    "plt.bar(paid_user_in_weeks.index,paid_user_in_weeks.values,color = 'red',width = 0.2)\n",
    "plt.title(\"Became paid user in week #\")\n",
    "\n",
    "for index, value in enumerate(paid_user_in_weeks):\n",
    "    plt.text(index, value, str(value))\n",
    "\n",
    "plt.title\n",
    "plt.show()"
   ]
  },
  {
   "cell_type": "markdown",
   "id": "51e80fb0",
   "metadata": {},
   "source": [
    "## Course Details"
   ]
  },
  {
   "cell_type": "code",
   "execution_count": 18,
   "id": "5eb66e07",
   "metadata": {},
   "outputs": [],
   "source": [
    "course_details = pd.read_csv('track_subscription_data.csv')"
   ]
  },
  {
   "cell_type": "code",
   "execution_count": 19,
   "id": "11af8ede",
   "metadata": {},
   "outputs": [
    {
     "data": {
      "text/html": [
       "<div>\n",
       "<style scoped>\n",
       "    .dataframe tbody tr th:only-of-type {\n",
       "        vertical-align: middle;\n",
       "    }\n",
       "\n",
       "    .dataframe tbody tr th {\n",
       "        vertical-align: top;\n",
       "    }\n",
       "\n",
       "    .dataframe thead th {\n",
       "        text-align: right;\n",
       "    }\n",
       "</style>\n",
       "<table border=\"1\" class=\"dataframe\">\n",
       "  <thead>\n",
       "    <tr style=\"text-align: right;\">\n",
       "      <th></th>\n",
       "      <th>user_id</th>\n",
       "      <th>track_slug</th>\n",
       "      <th>subscription_date</th>\n",
       "    </tr>\n",
       "  </thead>\n",
       "  <tbody>\n",
       "    <tr>\n",
       "      <th>0</th>\n",
       "      <td>6</td>\n",
       "      <td>kerala-psc</td>\n",
       "      <td>2021-06-04</td>\n",
       "    </tr>\n",
       "    <tr>\n",
       "      <th>1</th>\n",
       "      <td>6</td>\n",
       "      <td>KTET</td>\n",
       "      <td>2021-06-04</td>\n",
       "    </tr>\n",
       "    <tr>\n",
       "      <th>2</th>\n",
       "      <td>608</td>\n",
       "      <td>spoken-english</td>\n",
       "      <td>2021-06-04</td>\n",
       "    </tr>\n",
       "    <tr>\n",
       "      <th>3</th>\n",
       "      <td>608</td>\n",
       "      <td>APPSC</td>\n",
       "      <td>2021-06-04</td>\n",
       "    </tr>\n",
       "    <tr>\n",
       "      <th>4</th>\n",
       "      <td>608</td>\n",
       "      <td>Eng_With_Awal</td>\n",
       "      <td>2021-06-04</td>\n",
       "    </tr>\n",
       "  </tbody>\n",
       "</table>\n",
       "</div>"
      ],
      "text/plain": [
       "   user_id      track_slug subscription_date\n",
       "0        6      kerala-psc        2021-06-04\n",
       "1        6            KTET        2021-06-04\n",
       "2      608  spoken-english        2021-06-04\n",
       "3      608           APPSC        2021-06-04\n",
       "4      608   Eng_With_Awal        2021-06-04"
      ]
     },
     "execution_count": 19,
     "metadata": {},
     "output_type": "execute_result"
    }
   ],
   "source": [
    "course_details.head()"
   ]
  },
  {
   "cell_type": "code",
   "execution_count": 20,
   "id": "d8d80aed",
   "metadata": {},
   "outputs": [
    {
     "data": {
      "text/plain": [
       "962"
      ]
     },
     "execution_count": 20,
     "metadata": {},
     "output_type": "execute_result"
    }
   ],
   "source": [
    "len(course_details.user_id.unique())"
   ]
  },
  {
   "cell_type": "markdown",
   "id": "ec1ba607",
   "metadata": {},
   "source": [
    "identified 962 unique values for user_id"
   ]
  },
  {
   "cell_type": "code",
   "execution_count": 21,
   "id": "89ba653e",
   "metadata": {},
   "outputs": [],
   "source": [
    "course = course_details.track_slug.value_counts().head(10)"
   ]
  },
  {
   "cell_type": "code",
   "execution_count": 22,
   "id": "84691ee6",
   "metadata": {},
   "outputs": [
    {
     "data": {
      "text/plain": [
       "Spoken_eng_hindi    284\n",
       "spoken-english      213\n",
       "kerala-psc          163\n",
       "BANK-INS             64\n",
       "ssc                  57\n",
       "Eng_Inver_Coc        56\n",
       "TNPSC                56\n",
       "rrb                  53\n",
       "Apti_ess             44\n",
       "Anb_eng              43\n",
       "Name: track_slug, dtype: int64"
      ]
     },
     "execution_count": 22,
     "metadata": {},
     "output_type": "execute_result"
    }
   ],
   "source": [
    "course"
   ]
  },
  {
   "cell_type": "code",
   "execution_count": 23,
   "id": "133a6e7e",
   "metadata": {},
   "outputs": [
    {
     "data": {
      "text/html": [
       "<div>\n",
       "<style scoped>\n",
       "    .dataframe tbody tr th:only-of-type {\n",
       "        vertical-align: middle;\n",
       "    }\n",
       "\n",
       "    .dataframe tbody tr th {\n",
       "        vertical-align: top;\n",
       "    }\n",
       "\n",
       "    .dataframe thead th {\n",
       "        text-align: right;\n",
       "    }\n",
       "</style>\n",
       "<table border=\"1\" class=\"dataframe\">\n",
       "  <thead>\n",
       "    <tr style=\"text-align: right;\">\n",
       "      <th></th>\n",
       "      <th>user_uid</th>\n",
       "      <th>date_joined</th>\n",
       "      <th>date_of_first_purhcase</th>\n",
       "      <th>paid_user</th>\n",
       "      <th>date_diff</th>\n",
       "      <th>ddiff</th>\n",
       "      <th>paid_user_from</th>\n",
       "    </tr>\n",
       "  </thead>\n",
       "  <tbody>\n",
       "    <tr>\n",
       "      <th>0</th>\n",
       "      <td>6</td>\n",
       "      <td>2021-06-04</td>\n",
       "      <td>2021-06-04</td>\n",
       "      <td>True</td>\n",
       "      <td>0 days</td>\n",
       "      <td>0.0</td>\n",
       "      <td>Week 1</td>\n",
       "    </tr>\n",
       "    <tr>\n",
       "      <th>1</th>\n",
       "      <td>608</td>\n",
       "      <td>2021-06-04</td>\n",
       "      <td>NaT</td>\n",
       "      <td>False</td>\n",
       "      <td>NaT</td>\n",
       "      <td>NaN</td>\n",
       "      <td>NaN</td>\n",
       "    </tr>\n",
       "    <tr>\n",
       "      <th>2</th>\n",
       "      <td>635</td>\n",
       "      <td>2021-06-04</td>\n",
       "      <td>NaT</td>\n",
       "      <td>False</td>\n",
       "      <td>NaT</td>\n",
       "      <td>NaN</td>\n",
       "      <td>NaN</td>\n",
       "    </tr>\n",
       "    <tr>\n",
       "      <th>3</th>\n",
       "      <td>745</td>\n",
       "      <td>2021-06-04</td>\n",
       "      <td>NaT</td>\n",
       "      <td>False</td>\n",
       "      <td>NaT</td>\n",
       "      <td>NaN</td>\n",
       "      <td>NaN</td>\n",
       "    </tr>\n",
       "    <tr>\n",
       "      <th>4</th>\n",
       "      <td>1506</td>\n",
       "      <td>2021-06-04</td>\n",
       "      <td>NaT</td>\n",
       "      <td>False</td>\n",
       "      <td>NaT</td>\n",
       "      <td>NaN</td>\n",
       "      <td>NaN</td>\n",
       "    </tr>\n",
       "  </tbody>\n",
       "</table>\n",
       "</div>"
      ],
      "text/plain": [
       "   user_uid date_joined date_of_first_purhcase  paid_user date_diff  ddiff  \\\n",
       "0         6  2021-06-04             2021-06-04       True    0 days    0.0   \n",
       "1       608  2021-06-04                    NaT      False       NaT    NaN   \n",
       "2       635  2021-06-04                    NaT      False       NaT    NaN   \n",
       "3       745  2021-06-04                    NaT      False       NaT    NaN   \n",
       "4      1506  2021-06-04                    NaT      False       NaT    NaN   \n",
       "\n",
       "  paid_user_from  \n",
       "0         Week 1  \n",
       "1            NaN  \n",
       "2            NaN  \n",
       "3            NaN  \n",
       "4            NaN  "
      ]
     },
     "execution_count": 23,
     "metadata": {},
     "output_type": "execute_result"
    }
   ],
   "source": [
    "user_details.head()"
   ]
  },
  {
   "cell_type": "code",
   "execution_count": 24,
   "id": "06de832d",
   "metadata": {},
   "outputs": [],
   "source": [
    "#renaming user_uid\n",
    "user=user_details.rename(columns = {'user_uid':'user_id'})"
   ]
  },
  {
   "cell_type": "code",
   "execution_count": 25,
   "id": "f574925b",
   "metadata": {},
   "outputs": [
    {
     "data": {
      "text/html": [
       "<div>\n",
       "<style scoped>\n",
       "    .dataframe tbody tr th:only-of-type {\n",
       "        vertical-align: middle;\n",
       "    }\n",
       "\n",
       "    .dataframe tbody tr th {\n",
       "        vertical-align: top;\n",
       "    }\n",
       "\n",
       "    .dataframe thead th {\n",
       "        text-align: right;\n",
       "    }\n",
       "</style>\n",
       "<table border=\"1\" class=\"dataframe\">\n",
       "  <thead>\n",
       "    <tr style=\"text-align: right;\">\n",
       "      <th></th>\n",
       "      <th>user_id</th>\n",
       "      <th>date_joined</th>\n",
       "      <th>date_of_first_purhcase</th>\n",
       "      <th>paid_user</th>\n",
       "      <th>date_diff</th>\n",
       "      <th>ddiff</th>\n",
       "      <th>paid_user_from</th>\n",
       "    </tr>\n",
       "  </thead>\n",
       "  <tbody>\n",
       "    <tr>\n",
       "      <th>0</th>\n",
       "      <td>6</td>\n",
       "      <td>2021-06-04</td>\n",
       "      <td>2021-06-04</td>\n",
       "      <td>True</td>\n",
       "      <td>0 days</td>\n",
       "      <td>0.0</td>\n",
       "      <td>Week 1</td>\n",
       "    </tr>\n",
       "    <tr>\n",
       "      <th>1</th>\n",
       "      <td>608</td>\n",
       "      <td>2021-06-04</td>\n",
       "      <td>NaT</td>\n",
       "      <td>False</td>\n",
       "      <td>NaT</td>\n",
       "      <td>NaN</td>\n",
       "      <td>NaN</td>\n",
       "    </tr>\n",
       "    <tr>\n",
       "      <th>2</th>\n",
       "      <td>635</td>\n",
       "      <td>2021-06-04</td>\n",
       "      <td>NaT</td>\n",
       "      <td>False</td>\n",
       "      <td>NaT</td>\n",
       "      <td>NaN</td>\n",
       "      <td>NaN</td>\n",
       "    </tr>\n",
       "    <tr>\n",
       "      <th>3</th>\n",
       "      <td>745</td>\n",
       "      <td>2021-06-04</td>\n",
       "      <td>NaT</td>\n",
       "      <td>False</td>\n",
       "      <td>NaT</td>\n",
       "      <td>NaN</td>\n",
       "      <td>NaN</td>\n",
       "    </tr>\n",
       "    <tr>\n",
       "      <th>4</th>\n",
       "      <td>1506</td>\n",
       "      <td>2021-06-04</td>\n",
       "      <td>NaT</td>\n",
       "      <td>False</td>\n",
       "      <td>NaT</td>\n",
       "      <td>NaN</td>\n",
       "      <td>NaN</td>\n",
       "    </tr>\n",
       "  </tbody>\n",
       "</table>\n",
       "</div>"
      ],
      "text/plain": [
       "   user_id date_joined date_of_first_purhcase  paid_user date_diff  ddiff  \\\n",
       "0        6  2021-06-04             2021-06-04       True    0 days    0.0   \n",
       "1      608  2021-06-04                    NaT      False       NaT    NaN   \n",
       "2      635  2021-06-04                    NaT      False       NaT    NaN   \n",
       "3      745  2021-06-04                    NaT      False       NaT    NaN   \n",
       "4     1506  2021-06-04                    NaT      False       NaT    NaN   \n",
       "\n",
       "  paid_user_from  \n",
       "0         Week 1  \n",
       "1            NaN  \n",
       "2            NaN  \n",
       "3            NaN  \n",
       "4            NaN  "
      ]
     },
     "execution_count": 25,
     "metadata": {},
     "output_type": "execute_result"
    }
   ],
   "source": [
    "user.head()"
   ]
  },
  {
   "cell_type": "code",
   "execution_count": 26,
   "id": "a08d1dd6",
   "metadata": {},
   "outputs": [],
   "source": [
    "#merging  \n",
    "user_det = pd.merge(user,course_details,how = 'left',on = 'user_id',indicator=True)"
   ]
  },
  {
   "cell_type": "code",
   "execution_count": 27,
   "id": "6ff2597f",
   "metadata": {},
   "outputs": [
    {
     "data": {
      "text/plain": [
       "(1616, 10)"
      ]
     },
     "execution_count": 27,
     "metadata": {},
     "output_type": "execute_result"
    }
   ],
   "source": [
    "user_det.shape"
   ]
  },
  {
   "cell_type": "code",
   "execution_count": 28,
   "id": "d40a2fe3",
   "metadata": {},
   "outputs": [
    {
     "data": {
      "text/html": [
       "<div>\n",
       "<style scoped>\n",
       "    .dataframe tbody tr th:only-of-type {\n",
       "        vertical-align: middle;\n",
       "    }\n",
       "\n",
       "    .dataframe tbody tr th {\n",
       "        vertical-align: top;\n",
       "    }\n",
       "\n",
       "    .dataframe thead th {\n",
       "        text-align: right;\n",
       "    }\n",
       "</style>\n",
       "<table border=\"1\" class=\"dataframe\">\n",
       "  <thead>\n",
       "    <tr style=\"text-align: right;\">\n",
       "      <th></th>\n",
       "      <th>user_id</th>\n",
       "      <th>date_joined</th>\n",
       "      <th>date_of_first_purhcase</th>\n",
       "      <th>paid_user</th>\n",
       "      <th>date_diff</th>\n",
       "      <th>ddiff</th>\n",
       "      <th>paid_user_from</th>\n",
       "      <th>track_slug</th>\n",
       "      <th>subscription_date</th>\n",
       "      <th>_merge</th>\n",
       "    </tr>\n",
       "  </thead>\n",
       "  <tbody>\n",
       "    <tr>\n",
       "      <th>0</th>\n",
       "      <td>6</td>\n",
       "      <td>2021-06-04</td>\n",
       "      <td>2021-06-04</td>\n",
       "      <td>True</td>\n",
       "      <td>0 days</td>\n",
       "      <td>0.0</td>\n",
       "      <td>Week 1</td>\n",
       "      <td>kerala-psc</td>\n",
       "      <td>2021-06-04</td>\n",
       "      <td>both</td>\n",
       "    </tr>\n",
       "    <tr>\n",
       "      <th>1</th>\n",
       "      <td>6</td>\n",
       "      <td>2021-06-04</td>\n",
       "      <td>2021-06-04</td>\n",
       "      <td>True</td>\n",
       "      <td>0 days</td>\n",
       "      <td>0.0</td>\n",
       "      <td>Week 1</td>\n",
       "      <td>KTET</td>\n",
       "      <td>2021-06-04</td>\n",
       "      <td>both</td>\n",
       "    </tr>\n",
       "    <tr>\n",
       "      <th>2</th>\n",
       "      <td>608</td>\n",
       "      <td>2021-06-04</td>\n",
       "      <td>NaT</td>\n",
       "      <td>False</td>\n",
       "      <td>NaT</td>\n",
       "      <td>NaN</td>\n",
       "      <td>NaN</td>\n",
       "      <td>spoken-english</td>\n",
       "      <td>2021-06-04</td>\n",
       "      <td>both</td>\n",
       "    </tr>\n",
       "    <tr>\n",
       "      <th>3</th>\n",
       "      <td>608</td>\n",
       "      <td>2021-06-04</td>\n",
       "      <td>NaT</td>\n",
       "      <td>False</td>\n",
       "      <td>NaT</td>\n",
       "      <td>NaN</td>\n",
       "      <td>NaN</td>\n",
       "      <td>APPSC</td>\n",
       "      <td>2021-06-04</td>\n",
       "      <td>both</td>\n",
       "    </tr>\n",
       "    <tr>\n",
       "      <th>4</th>\n",
       "      <td>608</td>\n",
       "      <td>2021-06-04</td>\n",
       "      <td>NaT</td>\n",
       "      <td>False</td>\n",
       "      <td>NaT</td>\n",
       "      <td>NaN</td>\n",
       "      <td>NaN</td>\n",
       "      <td>Eng_With_Awal</td>\n",
       "      <td>2021-06-04</td>\n",
       "      <td>both</td>\n",
       "    </tr>\n",
       "  </tbody>\n",
       "</table>\n",
       "</div>"
      ],
      "text/plain": [
       "   user_id date_joined date_of_first_purhcase  paid_user date_diff  ddiff  \\\n",
       "0        6  2021-06-04             2021-06-04       True    0 days    0.0   \n",
       "1        6  2021-06-04             2021-06-04       True    0 days    0.0   \n",
       "2      608  2021-06-04                    NaT      False       NaT    NaN   \n",
       "3      608  2021-06-04                    NaT      False       NaT    NaN   \n",
       "4      608  2021-06-04                    NaT      False       NaT    NaN   \n",
       "\n",
       "  paid_user_from      track_slug subscription_date _merge  \n",
       "0         Week 1      kerala-psc        2021-06-04   both  \n",
       "1         Week 1            KTET        2021-06-04   both  \n",
       "2            NaN  spoken-english        2021-06-04   both  \n",
       "3            NaN           APPSC        2021-06-04   both  \n",
       "4            NaN   Eng_With_Awal        2021-06-04   both  "
      ]
     },
     "execution_count": 28,
     "metadata": {},
     "output_type": "execute_result"
    }
   ],
   "source": [
    "user_det.head()"
   ]
  },
  {
   "cell_type": "code",
   "execution_count": 29,
   "id": "7461e17c",
   "metadata": {},
   "outputs": [],
   "source": [
    "#renaming\n",
    "user_det = user_det.rename(columns={'_merge':'Source'})"
   ]
  },
  {
   "cell_type": "code",
   "execution_count": 30,
   "id": "7a3cfa1c",
   "metadata": {},
   "outputs": [
    {
     "data": {
      "text/html": [
       "<div>\n",
       "<style scoped>\n",
       "    .dataframe tbody tr th:only-of-type {\n",
       "        vertical-align: middle;\n",
       "    }\n",
       "\n",
       "    .dataframe tbody tr th {\n",
       "        vertical-align: top;\n",
       "    }\n",
       "\n",
       "    .dataframe thead th {\n",
       "        text-align: right;\n",
       "    }\n",
       "</style>\n",
       "<table border=\"1\" class=\"dataframe\">\n",
       "  <thead>\n",
       "    <tr style=\"text-align: right;\">\n",
       "      <th></th>\n",
       "      <th>user_id</th>\n",
       "      <th>date_joined</th>\n",
       "      <th>date_of_first_purhcase</th>\n",
       "      <th>paid_user</th>\n",
       "      <th>date_diff</th>\n",
       "      <th>ddiff</th>\n",
       "      <th>paid_user_from</th>\n",
       "      <th>track_slug</th>\n",
       "      <th>subscription_date</th>\n",
       "      <th>Source</th>\n",
       "    </tr>\n",
       "  </thead>\n",
       "  <tbody>\n",
       "    <tr>\n",
       "      <th>0</th>\n",
       "      <td>6</td>\n",
       "      <td>2021-06-04</td>\n",
       "      <td>2021-06-04</td>\n",
       "      <td>True</td>\n",
       "      <td>0 days</td>\n",
       "      <td>0.0</td>\n",
       "      <td>Week 1</td>\n",
       "      <td>kerala-psc</td>\n",
       "      <td>2021-06-04</td>\n",
       "      <td>both</td>\n",
       "    </tr>\n",
       "    <tr>\n",
       "      <th>1</th>\n",
       "      <td>6</td>\n",
       "      <td>2021-06-04</td>\n",
       "      <td>2021-06-04</td>\n",
       "      <td>True</td>\n",
       "      <td>0 days</td>\n",
       "      <td>0.0</td>\n",
       "      <td>Week 1</td>\n",
       "      <td>KTET</td>\n",
       "      <td>2021-06-04</td>\n",
       "      <td>both</td>\n",
       "    </tr>\n",
       "    <tr>\n",
       "      <th>2</th>\n",
       "      <td>608</td>\n",
       "      <td>2021-06-04</td>\n",
       "      <td>NaT</td>\n",
       "      <td>False</td>\n",
       "      <td>NaT</td>\n",
       "      <td>NaN</td>\n",
       "      <td>NaN</td>\n",
       "      <td>spoken-english</td>\n",
       "      <td>2021-06-04</td>\n",
       "      <td>both</td>\n",
       "    </tr>\n",
       "    <tr>\n",
       "      <th>3</th>\n",
       "      <td>608</td>\n",
       "      <td>2021-06-04</td>\n",
       "      <td>NaT</td>\n",
       "      <td>False</td>\n",
       "      <td>NaT</td>\n",
       "      <td>NaN</td>\n",
       "      <td>NaN</td>\n",
       "      <td>APPSC</td>\n",
       "      <td>2021-06-04</td>\n",
       "      <td>both</td>\n",
       "    </tr>\n",
       "    <tr>\n",
       "      <th>4</th>\n",
       "      <td>608</td>\n",
       "      <td>2021-06-04</td>\n",
       "      <td>NaT</td>\n",
       "      <td>False</td>\n",
       "      <td>NaT</td>\n",
       "      <td>NaN</td>\n",
       "      <td>NaN</td>\n",
       "      <td>Eng_With_Awal</td>\n",
       "      <td>2021-06-04</td>\n",
       "      <td>both</td>\n",
       "    </tr>\n",
       "  </tbody>\n",
       "</table>\n",
       "</div>"
      ],
      "text/plain": [
       "   user_id date_joined date_of_first_purhcase  paid_user date_diff  ddiff  \\\n",
       "0        6  2021-06-04             2021-06-04       True    0 days    0.0   \n",
       "1        6  2021-06-04             2021-06-04       True    0 days    0.0   \n",
       "2      608  2021-06-04                    NaT      False       NaT    NaN   \n",
       "3      608  2021-06-04                    NaT      False       NaT    NaN   \n",
       "4      608  2021-06-04                    NaT      False       NaT    NaN   \n",
       "\n",
       "  paid_user_from      track_slug subscription_date Source  \n",
       "0         Week 1      kerala-psc        2021-06-04   both  \n",
       "1         Week 1            KTET        2021-06-04   both  \n",
       "2            NaN  spoken-english        2021-06-04   both  \n",
       "3            NaN           APPSC        2021-06-04   both  \n",
       "4            NaN   Eng_With_Awal        2021-06-04   both  "
      ]
     },
     "execution_count": 30,
     "metadata": {},
     "output_type": "execute_result"
    }
   ],
   "source": [
    "user_det.head()"
   ]
  },
  {
   "cell_type": "code",
   "execution_count": 31,
   "id": "3f576d0a",
   "metadata": {},
   "outputs": [
    {
     "data": {
      "text/plain": [
       "both          1578\n",
       "left_only       38\n",
       "right_only       0\n",
       "Name: Source, dtype: int64"
      ]
     },
     "execution_count": 31,
     "metadata": {},
     "output_type": "execute_result"
    }
   ],
   "source": [
    "user_det.Source.value_counts()"
   ]
  },
  {
   "cell_type": "code",
   "execution_count": 32,
   "id": "9c3861ba",
   "metadata": {},
   "outputs": [
    {
     "data": {
      "text/plain": [
       "(38, 10)"
      ]
     },
     "execution_count": 32,
     "metadata": {},
     "output_type": "execute_result"
    }
   ],
   "source": [
    "user_det[user_det.Source=='left_only'].shape"
   ]
  },
  {
   "cell_type": "code",
   "execution_count": 33,
   "id": "c5d72fb6",
   "metadata": {},
   "outputs": [
    {
     "data": {
      "text/html": [
       "<div>\n",
       "<style scoped>\n",
       "    .dataframe tbody tr th:only-of-type {\n",
       "        vertical-align: middle;\n",
       "    }\n",
       "\n",
       "    .dataframe tbody tr th {\n",
       "        vertical-align: top;\n",
       "    }\n",
       "\n",
       "    .dataframe thead th {\n",
       "        text-align: right;\n",
       "    }\n",
       "</style>\n",
       "<table border=\"1\" class=\"dataframe\">\n",
       "  <thead>\n",
       "    <tr style=\"text-align: right;\">\n",
       "      <th></th>\n",
       "      <th>user_id</th>\n",
       "      <th>date_joined</th>\n",
       "      <th>date_of_first_purhcase</th>\n",
       "      <th>paid_user</th>\n",
       "      <th>date_diff</th>\n",
       "      <th>ddiff</th>\n",
       "      <th>paid_user_from</th>\n",
       "      <th>track_slug</th>\n",
       "      <th>subscription_date</th>\n",
       "      <th>Source</th>\n",
       "    </tr>\n",
       "  </thead>\n",
       "  <tbody>\n",
       "    <tr>\n",
       "      <th>57</th>\n",
       "      <td>13061</td>\n",
       "      <td>2021-06-06</td>\n",
       "      <td>NaT</td>\n",
       "      <td>False</td>\n",
       "      <td>NaT</td>\n",
       "      <td>NaN</td>\n",
       "      <td>NaN</td>\n",
       "      <td>NaN</td>\n",
       "      <td>NaN</td>\n",
       "      <td>left_only</td>\n",
       "    </tr>\n",
       "    <tr>\n",
       "      <th>110</th>\n",
       "      <td>24366</td>\n",
       "      <td>2021-06-07</td>\n",
       "      <td>NaT</td>\n",
       "      <td>False</td>\n",
       "      <td>NaT</td>\n",
       "      <td>NaN</td>\n",
       "      <td>NaN</td>\n",
       "      <td>NaN</td>\n",
       "      <td>NaN</td>\n",
       "      <td>left_only</td>\n",
       "    </tr>\n",
       "    <tr>\n",
       "      <th>181</th>\n",
       "      <td>36042</td>\n",
       "      <td>2021-06-09</td>\n",
       "      <td>NaT</td>\n",
       "      <td>False</td>\n",
       "      <td>NaT</td>\n",
       "      <td>NaN</td>\n",
       "      <td>NaN</td>\n",
       "      <td>NaN</td>\n",
       "      <td>NaN</td>\n",
       "      <td>left_only</td>\n",
       "    </tr>\n",
       "    <tr>\n",
       "      <th>243</th>\n",
       "      <td>53892</td>\n",
       "      <td>2021-06-11</td>\n",
       "      <td>NaT</td>\n",
       "      <td>False</td>\n",
       "      <td>NaT</td>\n",
       "      <td>NaN</td>\n",
       "      <td>NaN</td>\n",
       "      <td>NaN</td>\n",
       "      <td>NaN</td>\n",
       "      <td>left_only</td>\n",
       "    </tr>\n",
       "    <tr>\n",
       "      <th>350</th>\n",
       "      <td>85028</td>\n",
       "      <td>2021-06-15</td>\n",
       "      <td>NaT</td>\n",
       "      <td>False</td>\n",
       "      <td>NaT</td>\n",
       "      <td>NaN</td>\n",
       "      <td>NaN</td>\n",
       "      <td>NaN</td>\n",
       "      <td>NaN</td>\n",
       "      <td>left_only</td>\n",
       "    </tr>\n",
       "    <tr>\n",
       "      <th>488</th>\n",
       "      <td>120235</td>\n",
       "      <td>2021-06-19</td>\n",
       "      <td>NaT</td>\n",
       "      <td>False</td>\n",
       "      <td>NaT</td>\n",
       "      <td>NaN</td>\n",
       "      <td>NaN</td>\n",
       "      <td>NaN</td>\n",
       "      <td>NaN</td>\n",
       "      <td>left_only</td>\n",
       "    </tr>\n",
       "    <tr>\n",
       "      <th>507</th>\n",
       "      <td>125187</td>\n",
       "      <td>2021-06-20</td>\n",
       "      <td>NaT</td>\n",
       "      <td>False</td>\n",
       "      <td>NaT</td>\n",
       "      <td>NaN</td>\n",
       "      <td>NaN</td>\n",
       "      <td>NaN</td>\n",
       "      <td>NaN</td>\n",
       "      <td>left_only</td>\n",
       "    </tr>\n",
       "    <tr>\n",
       "      <th>533</th>\n",
       "      <td>134461</td>\n",
       "      <td>2021-06-21</td>\n",
       "      <td>NaT</td>\n",
       "      <td>False</td>\n",
       "      <td>NaT</td>\n",
       "      <td>NaN</td>\n",
       "      <td>NaN</td>\n",
       "      <td>NaN</td>\n",
       "      <td>NaN</td>\n",
       "      <td>left_only</td>\n",
       "    </tr>\n",
       "    <tr>\n",
       "      <th>635</th>\n",
       "      <td>146428</td>\n",
       "      <td>2021-06-23</td>\n",
       "      <td>NaT</td>\n",
       "      <td>False</td>\n",
       "      <td>NaT</td>\n",
       "      <td>NaN</td>\n",
       "      <td>NaN</td>\n",
       "      <td>NaN</td>\n",
       "      <td>NaN</td>\n",
       "      <td>left_only</td>\n",
       "    </tr>\n",
       "    <tr>\n",
       "      <th>683</th>\n",
       "      <td>156464</td>\n",
       "      <td>2021-06-25</td>\n",
       "      <td>NaT</td>\n",
       "      <td>False</td>\n",
       "      <td>NaT</td>\n",
       "      <td>NaN</td>\n",
       "      <td>NaN</td>\n",
       "      <td>NaN</td>\n",
       "      <td>NaN</td>\n",
       "      <td>left_only</td>\n",
       "    </tr>\n",
       "    <tr>\n",
       "      <th>702</th>\n",
       "      <td>162231</td>\n",
       "      <td>2021-06-26</td>\n",
       "      <td>NaT</td>\n",
       "      <td>False</td>\n",
       "      <td>NaT</td>\n",
       "      <td>NaN</td>\n",
       "      <td>NaN</td>\n",
       "      <td>NaN</td>\n",
       "      <td>NaN</td>\n",
       "      <td>left_only</td>\n",
       "    </tr>\n",
       "    <tr>\n",
       "      <th>706</th>\n",
       "      <td>165524</td>\n",
       "      <td>2021-06-27</td>\n",
       "      <td>NaT</td>\n",
       "      <td>False</td>\n",
       "      <td>NaT</td>\n",
       "      <td>NaN</td>\n",
       "      <td>NaN</td>\n",
       "      <td>NaN</td>\n",
       "      <td>NaN</td>\n",
       "      <td>left_only</td>\n",
       "    </tr>\n",
       "    <tr>\n",
       "      <th>778</th>\n",
       "      <td>177328</td>\n",
       "      <td>2021-06-30</td>\n",
       "      <td>NaT</td>\n",
       "      <td>False</td>\n",
       "      <td>NaT</td>\n",
       "      <td>NaN</td>\n",
       "      <td>NaN</td>\n",
       "      <td>NaN</td>\n",
       "      <td>NaN</td>\n",
       "      <td>left_only</td>\n",
       "    </tr>\n",
       "    <tr>\n",
       "      <th>945</th>\n",
       "      <td>218163</td>\n",
       "      <td>2021-07-06</td>\n",
       "      <td>NaT</td>\n",
       "      <td>False</td>\n",
       "      <td>NaT</td>\n",
       "      <td>NaN</td>\n",
       "      <td>NaN</td>\n",
       "      <td>NaN</td>\n",
       "      <td>NaN</td>\n",
       "      <td>left_only</td>\n",
       "    </tr>\n",
       "    <tr>\n",
       "      <th>977</th>\n",
       "      <td>228826</td>\n",
       "      <td>2021-07-07</td>\n",
       "      <td>NaT</td>\n",
       "      <td>False</td>\n",
       "      <td>NaT</td>\n",
       "      <td>NaN</td>\n",
       "      <td>NaN</td>\n",
       "      <td>NaN</td>\n",
       "      <td>NaN</td>\n",
       "      <td>left_only</td>\n",
       "    </tr>\n",
       "    <tr>\n",
       "      <th>1012</th>\n",
       "      <td>234419</td>\n",
       "      <td>2021-07-08</td>\n",
       "      <td>NaT</td>\n",
       "      <td>False</td>\n",
       "      <td>NaT</td>\n",
       "      <td>NaN</td>\n",
       "      <td>NaN</td>\n",
       "      <td>NaN</td>\n",
       "      <td>NaN</td>\n",
       "      <td>left_only</td>\n",
       "    </tr>\n",
       "    <tr>\n",
       "      <th>1019</th>\n",
       "      <td>238338</td>\n",
       "      <td>2021-07-08</td>\n",
       "      <td>NaT</td>\n",
       "      <td>False</td>\n",
       "      <td>NaT</td>\n",
       "      <td>NaN</td>\n",
       "      <td>NaN</td>\n",
       "      <td>NaN</td>\n",
       "      <td>NaN</td>\n",
       "      <td>left_only</td>\n",
       "    </tr>\n",
       "    <tr>\n",
       "      <th>1036</th>\n",
       "      <td>244139</td>\n",
       "      <td>2021-07-09</td>\n",
       "      <td>NaT</td>\n",
       "      <td>False</td>\n",
       "      <td>NaT</td>\n",
       "      <td>NaN</td>\n",
       "      <td>NaN</td>\n",
       "      <td>NaN</td>\n",
       "      <td>NaN</td>\n",
       "      <td>left_only</td>\n",
       "    </tr>\n",
       "    <tr>\n",
       "      <th>1044</th>\n",
       "      <td>244833</td>\n",
       "      <td>2021-07-09</td>\n",
       "      <td>NaT</td>\n",
       "      <td>False</td>\n",
       "      <td>NaT</td>\n",
       "      <td>NaN</td>\n",
       "      <td>NaN</td>\n",
       "      <td>NaN</td>\n",
       "      <td>NaN</td>\n",
       "      <td>left_only</td>\n",
       "    </tr>\n",
       "    <tr>\n",
       "      <th>1070</th>\n",
       "      <td>257245</td>\n",
       "      <td>2021-07-10</td>\n",
       "      <td>NaT</td>\n",
       "      <td>False</td>\n",
       "      <td>NaT</td>\n",
       "      <td>NaN</td>\n",
       "      <td>NaN</td>\n",
       "      <td>NaN</td>\n",
       "      <td>NaN</td>\n",
       "      <td>left_only</td>\n",
       "    </tr>\n",
       "    <tr>\n",
       "      <th>1094</th>\n",
       "      <td>263864</td>\n",
       "      <td>2021-07-11</td>\n",
       "      <td>NaT</td>\n",
       "      <td>False</td>\n",
       "      <td>NaT</td>\n",
       "      <td>NaN</td>\n",
       "      <td>NaN</td>\n",
       "      <td>NaN</td>\n",
       "      <td>NaN</td>\n",
       "      <td>left_only</td>\n",
       "    </tr>\n",
       "    <tr>\n",
       "      <th>1116</th>\n",
       "      <td>269678</td>\n",
       "      <td>2021-07-12</td>\n",
       "      <td>NaT</td>\n",
       "      <td>False</td>\n",
       "      <td>NaT</td>\n",
       "      <td>NaN</td>\n",
       "      <td>NaN</td>\n",
       "      <td>NaN</td>\n",
       "      <td>NaN</td>\n",
       "      <td>left_only</td>\n",
       "    </tr>\n",
       "    <tr>\n",
       "      <th>1172</th>\n",
       "      <td>286105</td>\n",
       "      <td>2021-07-14</td>\n",
       "      <td>NaT</td>\n",
       "      <td>False</td>\n",
       "      <td>NaT</td>\n",
       "      <td>NaN</td>\n",
       "      <td>NaN</td>\n",
       "      <td>NaN</td>\n",
       "      <td>NaN</td>\n",
       "      <td>left_only</td>\n",
       "    </tr>\n",
       "    <tr>\n",
       "      <th>1175</th>\n",
       "      <td>287438</td>\n",
       "      <td>2021-07-14</td>\n",
       "      <td>NaT</td>\n",
       "      <td>False</td>\n",
       "      <td>NaT</td>\n",
       "      <td>NaN</td>\n",
       "      <td>NaN</td>\n",
       "      <td>NaN</td>\n",
       "      <td>NaN</td>\n",
       "      <td>left_only</td>\n",
       "    </tr>\n",
       "    <tr>\n",
       "      <th>1198</th>\n",
       "      <td>293655</td>\n",
       "      <td>2021-07-14</td>\n",
       "      <td>NaT</td>\n",
       "      <td>False</td>\n",
       "      <td>NaT</td>\n",
       "      <td>NaN</td>\n",
       "      <td>NaN</td>\n",
       "      <td>NaN</td>\n",
       "      <td>NaN</td>\n",
       "      <td>left_only</td>\n",
       "    </tr>\n",
       "    <tr>\n",
       "      <th>1243</th>\n",
       "      <td>306903</td>\n",
       "      <td>2021-07-16</td>\n",
       "      <td>NaT</td>\n",
       "      <td>False</td>\n",
       "      <td>NaT</td>\n",
       "      <td>NaN</td>\n",
       "      <td>NaN</td>\n",
       "      <td>NaN</td>\n",
       "      <td>NaN</td>\n",
       "      <td>left_only</td>\n",
       "    </tr>\n",
       "    <tr>\n",
       "      <th>1244</th>\n",
       "      <td>306968</td>\n",
       "      <td>2021-07-16</td>\n",
       "      <td>NaT</td>\n",
       "      <td>False</td>\n",
       "      <td>NaT</td>\n",
       "      <td>NaN</td>\n",
       "      <td>NaN</td>\n",
       "      <td>NaN</td>\n",
       "      <td>NaN</td>\n",
       "      <td>left_only</td>\n",
       "    </tr>\n",
       "    <tr>\n",
       "      <th>1247</th>\n",
       "      <td>308819</td>\n",
       "      <td>2021-07-16</td>\n",
       "      <td>NaT</td>\n",
       "      <td>False</td>\n",
       "      <td>NaT</td>\n",
       "      <td>NaN</td>\n",
       "      <td>NaN</td>\n",
       "      <td>NaN</td>\n",
       "      <td>NaN</td>\n",
       "      <td>left_only</td>\n",
       "    </tr>\n",
       "    <tr>\n",
       "      <th>1265</th>\n",
       "      <td>311826</td>\n",
       "      <td>2021-07-17</td>\n",
       "      <td>NaT</td>\n",
       "      <td>False</td>\n",
       "      <td>NaT</td>\n",
       "      <td>NaN</td>\n",
       "      <td>NaN</td>\n",
       "      <td>NaN</td>\n",
       "      <td>NaN</td>\n",
       "      <td>left_only</td>\n",
       "    </tr>\n",
       "    <tr>\n",
       "      <th>1296</th>\n",
       "      <td>319601</td>\n",
       "      <td>2021-07-18</td>\n",
       "      <td>NaT</td>\n",
       "      <td>False</td>\n",
       "      <td>NaT</td>\n",
       "      <td>NaN</td>\n",
       "      <td>NaN</td>\n",
       "      <td>NaN</td>\n",
       "      <td>NaN</td>\n",
       "      <td>left_only</td>\n",
       "    </tr>\n",
       "    <tr>\n",
       "      <th>1301</th>\n",
       "      <td>320982</td>\n",
       "      <td>2021-07-18</td>\n",
       "      <td>NaT</td>\n",
       "      <td>False</td>\n",
       "      <td>NaT</td>\n",
       "      <td>NaN</td>\n",
       "      <td>NaN</td>\n",
       "      <td>NaN</td>\n",
       "      <td>NaN</td>\n",
       "      <td>left_only</td>\n",
       "    </tr>\n",
       "    <tr>\n",
       "      <th>1334</th>\n",
       "      <td>330274</td>\n",
       "      <td>2021-07-19</td>\n",
       "      <td>NaT</td>\n",
       "      <td>False</td>\n",
       "      <td>NaT</td>\n",
       "      <td>NaN</td>\n",
       "      <td>NaN</td>\n",
       "      <td>NaN</td>\n",
       "      <td>NaN</td>\n",
       "      <td>left_only</td>\n",
       "    </tr>\n",
       "    <tr>\n",
       "      <th>1356</th>\n",
       "      <td>337199</td>\n",
       "      <td>2021-07-21</td>\n",
       "      <td>NaT</td>\n",
       "      <td>False</td>\n",
       "      <td>NaT</td>\n",
       "      <td>NaN</td>\n",
       "      <td>NaN</td>\n",
       "      <td>NaN</td>\n",
       "      <td>NaN</td>\n",
       "      <td>left_only</td>\n",
       "    </tr>\n",
       "    <tr>\n",
       "      <th>1392</th>\n",
       "      <td>347661</td>\n",
       "      <td>2021-07-22</td>\n",
       "      <td>NaT</td>\n",
       "      <td>False</td>\n",
       "      <td>NaT</td>\n",
       "      <td>NaN</td>\n",
       "      <td>NaN</td>\n",
       "      <td>NaN</td>\n",
       "      <td>NaN</td>\n",
       "      <td>left_only</td>\n",
       "    </tr>\n",
       "    <tr>\n",
       "      <th>1438</th>\n",
       "      <td>361470</td>\n",
       "      <td>2021-07-25</td>\n",
       "      <td>NaT</td>\n",
       "      <td>False</td>\n",
       "      <td>NaT</td>\n",
       "      <td>NaN</td>\n",
       "      <td>NaN</td>\n",
       "      <td>NaN</td>\n",
       "      <td>NaN</td>\n",
       "      <td>left_only</td>\n",
       "    </tr>\n",
       "    <tr>\n",
       "      <th>1531</th>\n",
       "      <td>380655</td>\n",
       "      <td>2021-07-28</td>\n",
       "      <td>NaT</td>\n",
       "      <td>False</td>\n",
       "      <td>NaT</td>\n",
       "      <td>NaN</td>\n",
       "      <td>NaN</td>\n",
       "      <td>NaN</td>\n",
       "      <td>NaN</td>\n",
       "      <td>left_only</td>\n",
       "    </tr>\n",
       "    <tr>\n",
       "      <th>1595</th>\n",
       "      <td>399176</td>\n",
       "      <td>2021-08-01</td>\n",
       "      <td>NaT</td>\n",
       "      <td>False</td>\n",
       "      <td>NaT</td>\n",
       "      <td>NaN</td>\n",
       "      <td>NaN</td>\n",
       "      <td>NaN</td>\n",
       "      <td>NaN</td>\n",
       "      <td>left_only</td>\n",
       "    </tr>\n",
       "    <tr>\n",
       "      <th>1609</th>\n",
       "      <td>402595</td>\n",
       "      <td>2021-08-02</td>\n",
       "      <td>NaT</td>\n",
       "      <td>False</td>\n",
       "      <td>NaT</td>\n",
       "      <td>NaN</td>\n",
       "      <td>NaN</td>\n",
       "      <td>NaN</td>\n",
       "      <td>NaN</td>\n",
       "      <td>left_only</td>\n",
       "    </tr>\n",
       "  </tbody>\n",
       "</table>\n",
       "</div>"
      ],
      "text/plain": [
       "      user_id date_joined date_of_first_purhcase  paid_user date_diff  ddiff  \\\n",
       "57      13061  2021-06-06                    NaT      False       NaT    NaN   \n",
       "110     24366  2021-06-07                    NaT      False       NaT    NaN   \n",
       "181     36042  2021-06-09                    NaT      False       NaT    NaN   \n",
       "243     53892  2021-06-11                    NaT      False       NaT    NaN   \n",
       "350     85028  2021-06-15                    NaT      False       NaT    NaN   \n",
       "488    120235  2021-06-19                    NaT      False       NaT    NaN   \n",
       "507    125187  2021-06-20                    NaT      False       NaT    NaN   \n",
       "533    134461  2021-06-21                    NaT      False       NaT    NaN   \n",
       "635    146428  2021-06-23                    NaT      False       NaT    NaN   \n",
       "683    156464  2021-06-25                    NaT      False       NaT    NaN   \n",
       "702    162231  2021-06-26                    NaT      False       NaT    NaN   \n",
       "706    165524  2021-06-27                    NaT      False       NaT    NaN   \n",
       "778    177328  2021-06-30                    NaT      False       NaT    NaN   \n",
       "945    218163  2021-07-06                    NaT      False       NaT    NaN   \n",
       "977    228826  2021-07-07                    NaT      False       NaT    NaN   \n",
       "1012   234419  2021-07-08                    NaT      False       NaT    NaN   \n",
       "1019   238338  2021-07-08                    NaT      False       NaT    NaN   \n",
       "1036   244139  2021-07-09                    NaT      False       NaT    NaN   \n",
       "1044   244833  2021-07-09                    NaT      False       NaT    NaN   \n",
       "1070   257245  2021-07-10                    NaT      False       NaT    NaN   \n",
       "1094   263864  2021-07-11                    NaT      False       NaT    NaN   \n",
       "1116   269678  2021-07-12                    NaT      False       NaT    NaN   \n",
       "1172   286105  2021-07-14                    NaT      False       NaT    NaN   \n",
       "1175   287438  2021-07-14                    NaT      False       NaT    NaN   \n",
       "1198   293655  2021-07-14                    NaT      False       NaT    NaN   \n",
       "1243   306903  2021-07-16                    NaT      False       NaT    NaN   \n",
       "1244   306968  2021-07-16                    NaT      False       NaT    NaN   \n",
       "1247   308819  2021-07-16                    NaT      False       NaT    NaN   \n",
       "1265   311826  2021-07-17                    NaT      False       NaT    NaN   \n",
       "1296   319601  2021-07-18                    NaT      False       NaT    NaN   \n",
       "1301   320982  2021-07-18                    NaT      False       NaT    NaN   \n",
       "1334   330274  2021-07-19                    NaT      False       NaT    NaN   \n",
       "1356   337199  2021-07-21                    NaT      False       NaT    NaN   \n",
       "1392   347661  2021-07-22                    NaT      False       NaT    NaN   \n",
       "1438   361470  2021-07-25                    NaT      False       NaT    NaN   \n",
       "1531   380655  2021-07-28                    NaT      False       NaT    NaN   \n",
       "1595   399176  2021-08-01                    NaT      False       NaT    NaN   \n",
       "1609   402595  2021-08-02                    NaT      False       NaT    NaN   \n",
       "\n",
       "     paid_user_from track_slug subscription_date     Source  \n",
       "57              NaN        NaN               NaN  left_only  \n",
       "110             NaN        NaN               NaN  left_only  \n",
       "181             NaN        NaN               NaN  left_only  \n",
       "243             NaN        NaN               NaN  left_only  \n",
       "350             NaN        NaN               NaN  left_only  \n",
       "488             NaN        NaN               NaN  left_only  \n",
       "507             NaN        NaN               NaN  left_only  \n",
       "533             NaN        NaN               NaN  left_only  \n",
       "635             NaN        NaN               NaN  left_only  \n",
       "683             NaN        NaN               NaN  left_only  \n",
       "702             NaN        NaN               NaN  left_only  \n",
       "706             NaN        NaN               NaN  left_only  \n",
       "778             NaN        NaN               NaN  left_only  \n",
       "945             NaN        NaN               NaN  left_only  \n",
       "977             NaN        NaN               NaN  left_only  \n",
       "1012            NaN        NaN               NaN  left_only  \n",
       "1019            NaN        NaN               NaN  left_only  \n",
       "1036            NaN        NaN               NaN  left_only  \n",
       "1044            NaN        NaN               NaN  left_only  \n",
       "1070            NaN        NaN               NaN  left_only  \n",
       "1094            NaN        NaN               NaN  left_only  \n",
       "1116            NaN        NaN               NaN  left_only  \n",
       "1172            NaN        NaN               NaN  left_only  \n",
       "1175            NaN        NaN               NaN  left_only  \n",
       "1198            NaN        NaN               NaN  left_only  \n",
       "1243            NaN        NaN               NaN  left_only  \n",
       "1244            NaN        NaN               NaN  left_only  \n",
       "1247            NaN        NaN               NaN  left_only  \n",
       "1265            NaN        NaN               NaN  left_only  \n",
       "1296            NaN        NaN               NaN  left_only  \n",
       "1301            NaN        NaN               NaN  left_only  \n",
       "1334            NaN        NaN               NaN  left_only  \n",
       "1356            NaN        NaN               NaN  left_only  \n",
       "1392            NaN        NaN               NaN  left_only  \n",
       "1438            NaN        NaN               NaN  left_only  \n",
       "1531            NaN        NaN               NaN  left_only  \n",
       "1595            NaN        NaN               NaN  left_only  \n",
       "1609            NaN        NaN               NaN  left_only  "
      ]
     },
     "execution_count": 33,
     "metadata": {},
     "output_type": "execute_result"
    }
   ],
   "source": [
    "user_det[user_det.Source=='left_only']"
   ]
  },
  {
   "cell_type": "markdown",
   "id": "9120b69b",
   "metadata": {},
   "source": [
    "course details are missing for 38 unpaid users, May be they are just passive viewers"
   ]
  },
  {
   "cell_type": "code",
   "execution_count": 34,
   "id": "bfac2203",
   "metadata": {},
   "outputs": [],
   "source": [
    "#subseting to users in both df\n",
    "user_det1 = user_det[user_det.Source == 'both']"
   ]
  },
  {
   "cell_type": "code",
   "execution_count": 35,
   "id": "941c2fe3",
   "metadata": {},
   "outputs": [
    {
     "data": {
      "text/plain": [
       "(1578, 10)"
      ]
     },
     "execution_count": 35,
     "metadata": {},
     "output_type": "execute_result"
    }
   ],
   "source": [
    "user_det1.shape"
   ]
  },
  {
   "cell_type": "code",
   "execution_count": 36,
   "id": "3181db20",
   "metadata": {},
   "outputs": [
    {
     "data": {
      "text/plain": [
       "576"
      ]
     },
     "execution_count": 36,
     "metadata": {},
     "output_type": "execute_result"
    }
   ],
   "source": [
    "len(user_det1[user_det1.paid_user==True].user_id.unique())"
   ]
  },
  {
   "cell_type": "markdown",
   "id": "f3ea9b3b",
   "metadata": {},
   "source": [
    "course details for 576 paid users are available"
   ]
  },
  {
   "cell_type": "code",
   "execution_count": 37,
   "id": "c11fe2b8",
   "metadata": {},
   "outputs": [
    {
     "data": {
      "text/plain": [
       "386"
      ]
     },
     "execution_count": 37,
     "metadata": {},
     "output_type": "execute_result"
    }
   ],
   "source": [
    "len(user_det1[user_det1.paid_user==False].user_id.unique())"
   ]
  },
  {
   "cell_type": "markdown",
   "id": "89ead316",
   "metadata": {},
   "source": [
    "course details for 386 unpaid users are available"
   ]
  },
  {
   "cell_type": "code",
   "execution_count": 38,
   "id": "c50bee9d",
   "metadata": {},
   "outputs": [],
   "source": [
    "top_10_course = user_det1.track_slug.value_counts().head(10)"
   ]
  },
  {
   "cell_type": "code",
   "execution_count": 39,
   "id": "bb2ddf47",
   "metadata": {},
   "outputs": [
    {
     "data": {
      "image/png": "[encoded data removed]",
      "text/plain": [
       "<Figure size 1280x320 with 1 Axes>"
      ]
     },
     "metadata": {
      "needs_background": "light"
     },
     "output_type": "display_data"
    }
   ],
   "source": [
    "plt.figure(figsize=(16,4), dpi=80)\n",
    "plt.bar(top_10_course.index,top_10_course.values,color = 'g',width = 0.2)\n",
    "plt.title(\"top 10 Courses having most number of users #\")\n",
    "\n",
    "for index, value in enumerate(top_10_course):\n",
    "    plt.text(index, value, str(value),ha = 'center')\n",
    "\n",
    "plt.title\n",
    "plt.show()"
   ]
  },
  {
   "cell_type": "code",
   "execution_count": 40,
   "id": "e4f93c80",
   "metadata": {},
   "outputs": [],
   "source": [
    "top10_paid = {}\n",
    "top10_unpaid = {}\n",
    "for i in top_10_course.index:\n",
    "    top10_paid[i] = user_det1[user_det1.paid_user==True].track_slug.value_counts()[i]\n",
    "    top10_unpaid[i] = user_det1[user_det1.paid_user==False].track_slug.value_counts()[i]"
   ]
  },
  {
   "cell_type": "code",
   "execution_count": 41,
   "id": "f5a82d8f",
   "metadata": {},
   "outputs": [
    {
     "data": {
      "image/png": "[encoded data removed]",
      "text/plain": [
       "<Figure size 1280x320 with 1 Axes>"
      ]
     },
     "metadata": {
      "needs_background": "light"
     },
     "output_type": "display_data"
    }
   ],
   "source": [
    "X = top_10_course.index\n",
    "Ygirls = [10,20,20,40]\n",
    "Zboys = [20,30,25,30]\n",
    "  \n",
    "X_axis = np.arange(len(X))\n",
    "plt.figure(figsize=(16,4), dpi=80)  \n",
    "plt.bar(X_axis - 0.125, top10_paid.values(), 0.25, label = 'Paid')\n",
    "\n",
    "for index, value in enumerate(top10_paid.values()):\n",
    "    plt.text(index, value, str(value),ha = 'right')\n",
    "    \n",
    "plt.bar(X_axis + 0.125, top10_unpaid.values(), 0.25, label = 'UnPaid')\n",
    "\n",
    "for index, value in enumerate(top10_unpaid.values()):\n",
    "    plt.text(index, value, str(value),ha = 'left')\n",
    "  \n",
    "plt.xticks(X_axis, X)\n",
    "plt.xlabel(\"Groups\")\n",
    "#plt.ylabel(\"Number of Users\")\n",
    "plt.title(\"Distribution of top 10 courses having most users\")\n",
    "plt.legend()\n",
    "plt.show()"
   ]
  },
  {
   "cell_type": "code",
   "execution_count": 42,
   "id": "d0e02399",
   "metadata": {},
   "outputs": [],
   "source": [
    "paid_course = user_det1[user_det1.paid_user==True].track_slug.value_counts().sort_values(ascending = False).head(10)"
   ]
  },
  {
   "cell_type": "code",
   "execution_count": 43,
   "id": "3acecb89",
   "metadata": {},
   "outputs": [
    {
     "data": {
      "image/png": "[encoded data removed]",
      "text/plain": [
       "<Figure size 1280x320 with 1 Axes>"
      ]
     },
     "metadata": {
      "needs_background": "light"
     },
     "output_type": "display_data"
    }
   ],
   "source": [
    "plt.figure(figsize=(16,4), dpi=80)\n",
    "plt.bar(paid_course.index,paid_course.values,color = 'blue',width = 0.2)\n",
    "plt.title(\"top 10 Courses having most number of paid users #\")\n",
    "\n",
    "for index, value in enumerate(paid_course):\n",
    "    plt.text(index, value, str(value))\n",
    "\n",
    "plt.title\n",
    "plt.show()"
   ]
  },
  {
   "cell_type": "code",
   "execution_count": 44,
   "id": "4cd00eb1",
   "metadata": {},
   "outputs": [],
   "source": [
    "unpaid_course = user_det1[user_det1.paid_user==False].track_slug.value_counts().sort_values(ascending = False).head(10)"
   ]
  },
  {
   "cell_type": "code",
   "execution_count": 45,
   "id": "84d2b9f9",
   "metadata": {},
   "outputs": [
    {
     "data": {
      "image/png": "[encoded data removed]",
      "text/plain": [
       "<Figure size 1280x320 with 1 Axes>"
      ]
     },
     "metadata": {
      "needs_background": "light"
     },
     "output_type": "display_data"
    }
   ],
   "source": [
    "plt.figure(figsize=(16,4), dpi=80)\n",
    "plt.bar(unpaid_course.index,unpaid_course.values,color = 'cyan',width = 0.2)\n",
    "plt.title(\"top 10 Courses having most number of unpaid users #\")\n",
    "\n",
    "for index, value in enumerate(unpaid_course):\n",
    "    plt.text(index, value, str(value))\n",
    "\n",
    "plt.title\n",
    "plt.show()"
   ]
  },
  {
   "cell_type": "code",
   "execution_count": 46,
   "id": "a1240995",
   "metadata": {},
   "outputs": [],
   "source": [
    "user_det['subscription_date'] = pd.to_datetime(user_det.subscription_date)"
   ]
  },
  {
   "cell_type": "code",
   "execution_count": 47,
   "id": "ce14bba5",
   "metadata": {},
   "outputs": [
    {
     "data": {
      "text/plain": [
       "(395, 10)"
      ]
     },
     "execution_count": 47,
     "metadata": {},
     "output_type": "execute_result"
    }
   ],
   "source": [
    "user_det[(user_det.subscription_date.dt.date!=user_det.date_joined.dt.date)].shape"
   ]
  },
  {
   "cell_type": "code",
   "execution_count": 48,
   "id": "7b391cc0",
   "metadata": {},
   "outputs": [
    {
     "data": {
      "text/plain": [
       "(1578, 10)"
      ]
     },
     "execution_count": 48,
     "metadata": {},
     "output_type": "execute_result"
    }
   ],
   "source": [
    "user_det[user_det.subscription_date.notnull()].shape"
   ]
  },
  {
   "cell_type": "markdown",
   "id": "2e9d5ec8",
   "metadata": {},
   "source": [
    "## Quiz Details"
   ]
  },
  {
   "cell_type": "code",
   "execution_count": 49,
   "id": "73f9e882",
   "metadata": {},
   "outputs": [],
   "source": [
    "quiz_details = pd.read_csv('user_quiz_attempt_data.csv')"
   ]
  },
  {
   "cell_type": "code",
   "execution_count": 50,
   "id": "54fd4c1f",
   "metadata": {},
   "outputs": [
    {
     "data": {
      "text/html": [
       "<div>\n",
       "<style scoped>\n",
       "    .dataframe tbody tr th:only-of-type {\n",
       "        vertical-align: middle;\n",
       "    }\n",
       "\n",
       "    .dataframe tbody tr th {\n",
       "        vertical-align: top;\n",
       "    }\n",
       "\n",
       "    .dataframe thead th {\n",
       "        text-align: right;\n",
       "    }\n",
       "</style>\n",
       "<table border=\"1\" class=\"dataframe\">\n",
       "  <thead>\n",
       "    <tr style=\"text-align: right;\">\n",
       "      <th></th>\n",
       "      <th>user_id</th>\n",
       "      <th>attempt_id</th>\n",
       "      <th>started_at</th>\n",
       "      <th>status</th>\n",
       "      <th>no_of_questions</th>\n",
       "      <th>question_attempted</th>\n",
       "    </tr>\n",
       "  </thead>\n",
       "  <tbody>\n",
       "    <tr>\n",
       "      <th>0</th>\n",
       "      <td>1506</td>\n",
       "      <td>50839743</td>\n",
       "      <td>None</td>\n",
       "      <td>CREATE</td>\n",
       "      <td>10</td>\n",
       "      <td>0</td>\n",
       "    </tr>\n",
       "    <tr>\n",
       "      <th>1</th>\n",
       "      <td>1506</td>\n",
       "      <td>50839752</td>\n",
       "      <td>None</td>\n",
       "      <td>PAUSE</td>\n",
       "      <td>10</td>\n",
       "      <td>10</td>\n",
       "    </tr>\n",
       "    <tr>\n",
       "      <th>2</th>\n",
       "      <td>1642</td>\n",
       "      <td>50842794</td>\n",
       "      <td>2021-06-04 16:52:25.634573+00:00</td>\n",
       "      <td>COMPLETE</td>\n",
       "      <td>10</td>\n",
       "      <td>10</td>\n",
       "    </tr>\n",
       "    <tr>\n",
       "      <th>3</th>\n",
       "      <td>1642</td>\n",
       "      <td>50843057</td>\n",
       "      <td>2021-06-04 16:55:37.917805+00:00</td>\n",
       "      <td>COMPLETE</td>\n",
       "      <td>10</td>\n",
       "      <td>10</td>\n",
       "    </tr>\n",
       "    <tr>\n",
       "      <th>4</th>\n",
       "      <td>1642</td>\n",
       "      <td>50843164</td>\n",
       "      <td>None</td>\n",
       "      <td>CREATE</td>\n",
       "      <td>10</td>\n",
       "      <td>0</td>\n",
       "    </tr>\n",
       "  </tbody>\n",
       "</table>\n",
       "</div>"
      ],
      "text/plain": [
       "   user_id  attempt_id                        started_at    status  \\\n",
       "0     1506    50839743                              None    CREATE   \n",
       "1     1506    50839752                              None     PAUSE   \n",
       "2     1642    50842794  2021-06-04 16:52:25.634573+00:00  COMPLETE   \n",
       "3     1642    50843057  2021-06-04 16:55:37.917805+00:00  COMPLETE   \n",
       "4     1642    50843164                              None    CREATE   \n",
       "\n",
       "   no_of_questions  question_attempted  \n",
       "0               10                   0  \n",
       "1               10                  10  \n",
       "2               10                  10  \n",
       "3               10                  10  \n",
       "4               10                   0  "
      ]
     },
     "execution_count": 50,
     "metadata": {},
     "output_type": "execute_result"
    }
   ],
   "source": [
    "quiz_details.head()"
   ]
  },
  {
   "cell_type": "code",
   "execution_count": 51,
   "id": "7e0054b4",
   "metadata": {},
   "outputs": [
    {
     "data": {
      "text/plain": [
       "(21419, 6)"
      ]
     },
     "execution_count": 51,
     "metadata": {},
     "output_type": "execute_result"
    }
   ],
   "source": [
    "quiz_details.shape"
   ]
  },
  {
   "cell_type": "code",
   "execution_count": 52,
   "id": "e80132c7",
   "metadata": {},
   "outputs": [],
   "source": [
    "user1 = pd.read_csv('user_purchase_data.csv')"
   ]
  },
  {
   "cell_type": "code",
   "execution_count": 53,
   "id": "cf780571",
   "metadata": {},
   "outputs": [
    {
     "data": {
      "text/html": [
       "<div>\n",
       "<style scoped>\n",
       "    .dataframe tbody tr th:only-of-type {\n",
       "        vertical-align: middle;\n",
       "    }\n",
       "\n",
       "    .dataframe tbody tr th {\n",
       "        vertical-align: top;\n",
       "    }\n",
       "\n",
       "    .dataframe thead th {\n",
       "        text-align: right;\n",
       "    }\n",
       "</style>\n",
       "<table border=\"1\" class=\"dataframe\">\n",
       "  <thead>\n",
       "    <tr style=\"text-align: right;\">\n",
       "      <th></th>\n",
       "      <th>user_uid</th>\n",
       "      <th>date_joined</th>\n",
       "      <th>date_of_first_purhcase</th>\n",
       "    </tr>\n",
       "  </thead>\n",
       "  <tbody>\n",
       "    <tr>\n",
       "      <th>0</th>\n",
       "      <td>6</td>\n",
       "      <td>2021-06-04</td>\n",
       "      <td>2021-06-04</td>\n",
       "    </tr>\n",
       "    <tr>\n",
       "      <th>1</th>\n",
       "      <td>608</td>\n",
       "      <td>2021-06-04</td>\n",
       "      <td>NaN</td>\n",
       "    </tr>\n",
       "    <tr>\n",
       "      <th>2</th>\n",
       "      <td>635</td>\n",
       "      <td>2021-06-04</td>\n",
       "      <td>NaN</td>\n",
       "    </tr>\n",
       "    <tr>\n",
       "      <th>3</th>\n",
       "      <td>745</td>\n",
       "      <td>2021-06-04</td>\n",
       "      <td>NaN</td>\n",
       "    </tr>\n",
       "    <tr>\n",
       "      <th>4</th>\n",
       "      <td>1506</td>\n",
       "      <td>2021-06-04</td>\n",
       "      <td>NaN</td>\n",
       "    </tr>\n",
       "  </tbody>\n",
       "</table>\n",
       "</div>"
      ],
      "text/plain": [
       "   user_uid date_joined date_of_first_purhcase\n",
       "0         6  2021-06-04             2021-06-04\n",
       "1       608  2021-06-04                    NaN\n",
       "2       635  2021-06-04                    NaN\n",
       "3       745  2021-06-04                    NaN\n",
       "4      1506  2021-06-04                    NaN"
      ]
     },
     "execution_count": 53,
     "metadata": {},
     "output_type": "execute_result"
    }
   ],
   "source": [
    "user1.head()"
   ]
  },
  {
   "cell_type": "code",
   "execution_count": 54,
   "id": "ec5edb51",
   "metadata": {},
   "outputs": [],
   "source": [
    "user1 = user1.rename(columns={'user_uid':'user_id'})"
   ]
  },
  {
   "cell_type": "code",
   "execution_count": 55,
   "id": "5e0991f4",
   "metadata": {},
   "outputs": [],
   "source": [
    "comb_data1 = pd.merge(user1,quiz_details,how = 'left',on = 'user_id')"
   ]
  },
  {
   "cell_type": "code",
   "execution_count": 56,
   "id": "26efa454",
   "metadata": {},
   "outputs": [
    {
     "data": {
      "text/html": [
       "<div>\n",
       "<style scoped>\n",
       "    .dataframe tbody tr th:only-of-type {\n",
       "        vertical-align: middle;\n",
       "    }\n",
       "\n",
       "    .dataframe tbody tr th {\n",
       "        vertical-align: top;\n",
       "    }\n",
       "\n",
       "    .dataframe thead th {\n",
       "        text-align: right;\n",
       "    }\n",
       "</style>\n",
       "<table border=\"1\" class=\"dataframe\">\n",
       "  <thead>\n",
       "    <tr style=\"text-align: right;\">\n",
       "      <th></th>\n",
       "      <th>user_id</th>\n",
       "      <th>date_joined</th>\n",
       "      <th>date_of_first_purhcase</th>\n",
       "      <th>attempt_id</th>\n",
       "      <th>started_at</th>\n",
       "      <th>status</th>\n",
       "      <th>no_of_questions</th>\n",
       "      <th>question_attempted</th>\n",
       "    </tr>\n",
       "  </thead>\n",
       "  <tbody>\n",
       "    <tr>\n",
       "      <th>0</th>\n",
       "      <td>6</td>\n",
       "      <td>2021-06-04</td>\n",
       "      <td>2021-06-04</td>\n",
       "      <td>50855054.0</td>\n",
       "      <td>None</td>\n",
       "      <td>COMPLETE</td>\n",
       "      <td>30.0</td>\n",
       "      <td>0.0</td>\n",
       "    </tr>\n",
       "    <tr>\n",
       "      <th>1</th>\n",
       "      <td>6</td>\n",
       "      <td>2021-06-04</td>\n",
       "      <td>2021-06-04</td>\n",
       "      <td>51099465.0</td>\n",
       "      <td>2021-06-07 14:42:33.555259+00:00</td>\n",
       "      <td>COMPLETE</td>\n",
       "      <td>30.0</td>\n",
       "      <td>30.0</td>\n",
       "    </tr>\n",
       "    <tr>\n",
       "      <th>2</th>\n",
       "      <td>6</td>\n",
       "      <td>2021-06-04</td>\n",
       "      <td>2021-06-04</td>\n",
       "      <td>51101002.0</td>\n",
       "      <td>2021-06-07 17:27:42.960916+00:00</td>\n",
       "      <td>COMPLETE</td>\n",
       "      <td>30.0</td>\n",
       "      <td>9.0</td>\n",
       "    </tr>\n",
       "    <tr>\n",
       "      <th>3</th>\n",
       "      <td>6</td>\n",
       "      <td>2021-06-04</td>\n",
       "      <td>2021-06-04</td>\n",
       "      <td>51117646.0</td>\n",
       "      <td>2021-06-07 17:52:13.175348+00:00</td>\n",
       "      <td>COMPLETE</td>\n",
       "      <td>30.0</td>\n",
       "      <td>0.0</td>\n",
       "    </tr>\n",
       "    <tr>\n",
       "      <th>4</th>\n",
       "      <td>6</td>\n",
       "      <td>2021-06-04</td>\n",
       "      <td>2021-06-04</td>\n",
       "      <td>51119007.0</td>\n",
       "      <td>2021-06-08 10:51:48.563511+00:00</td>\n",
       "      <td>COMPLETE</td>\n",
       "      <td>15.0</td>\n",
       "      <td>10.0</td>\n",
       "    </tr>\n",
       "  </tbody>\n",
       "</table>\n",
       "</div>"
      ],
      "text/plain": [
       "   user_id date_joined date_of_first_purhcase  attempt_id  \\\n",
       "0        6  2021-06-04             2021-06-04  50855054.0   \n",
       "1        6  2021-06-04             2021-06-04  51099465.0   \n",
       "2        6  2021-06-04             2021-06-04  51101002.0   \n",
       "3        6  2021-06-04             2021-06-04  51117646.0   \n",
       "4        6  2021-06-04             2021-06-04  51119007.0   \n",
       "\n",
       "                         started_at    status  no_of_questions  \\\n",
       "0                              None  COMPLETE             30.0   \n",
       "1  2021-06-07 14:42:33.555259+00:00  COMPLETE             30.0   \n",
       "2  2021-06-07 17:27:42.960916+00:00  COMPLETE             30.0   \n",
       "3  2021-06-07 17:52:13.175348+00:00  COMPLETE             30.0   \n",
       "4  2021-06-08 10:51:48.563511+00:00  COMPLETE             15.0   \n",
       "\n",
       "   question_attempted  \n",
       "0                 0.0  \n",
       "1                30.0  \n",
       "2                 9.0  \n",
       "3                 0.0  \n",
       "4                10.0  "
      ]
     },
     "execution_count": 56,
     "metadata": {},
     "output_type": "execute_result"
    }
   ],
   "source": [
    "comb_data1.head()"
   ]
  },
  {
   "cell_type": "code",
   "execution_count": 57,
   "id": "1560425c",
   "metadata": {},
   "outputs": [],
   "source": [
    "comb_data1['paid_user'] = comb_data1.date_of_first_purhcase.notnull()"
   ]
  },
  {
   "cell_type": "code",
   "execution_count": 64,
   "id": "1a535a10",
   "metadata": {},
   "outputs": [],
   "source": [
    "number_attempts = comb_data1['attempt_id'].groupby(comb_data1.paid_user).count()"
   ]
  },
  {
   "cell_type": "code",
   "execution_count": 65,
   "id": "75536bc1",
   "metadata": {},
   "outputs": [
    {
     "data": {
      "text/plain": [
       "paid_user\n",
       "False     1422\n",
       "True     19997\n",
       "Name: attempt_id, dtype: int64"
      ]
     },
     "execution_count": 65,
     "metadata": {},
     "output_type": "execute_result"
    }
   ],
   "source": [
    "number_attempts"
   ]
  },
  {
   "cell_type": "code",
   "execution_count": 66,
   "id": "15dc086b",
   "metadata": {},
   "outputs": [
    {
     "data": {
      "text/plain": [
       "[Text(0.5, 1.0, 'number of quiz attempts')]"
      ]
     },
     "execution_count": 66,
     "metadata": {},
     "output_type": "execute_result"
    },
    {
     "data": {
      "image/png": "[encoded data removed]",
      "text/plain": [
       "<Figure size 432x288 with 1 Axes>"
      ]
     },
     "metadata": {
      "needs_background": "light"
     },
     "output_type": "display_data"
    }
   ],
   "source": [
    "sns.barplot(x = number_attempts.index, y = number_attempts.values,hue = number_attempts.index).set(title = 'number of quiz attempts')"
   ]
  },
  {
   "cell_type": "markdown",
   "id": "b7b60a43",
   "metadata": {},
   "source": [
    "paid users are attempting more quizes"
   ]
  },
  {
   "cell_type": "code",
   "execution_count": 67,
   "id": "0a521755",
   "metadata": {},
   "outputs": [],
   "source": [
    "quiz_attempts = comb_data1.status.groupby(comb_data1.paid_user).value_counts()"
   ]
  },
  {
   "cell_type": "code",
   "execution_count": 68,
   "id": "37d01627",
   "metadata": {},
   "outputs": [
    {
     "data": {
      "text/plain": [
       "paid_user  status  \n",
       "False      COMPLETE      874\n",
       "           CREATE        478\n",
       "           PAUSE          54\n",
       "           PROGRESS       16\n",
       "True       COMPLETE    12959\n",
       "           CREATE       6472\n",
       "           PAUSE         435\n",
       "           PROGRESS      131\n",
       "Name: status, dtype: int64"
      ]
     },
     "execution_count": 68,
     "metadata": {},
     "output_type": "execute_result"
    }
   ],
   "source": [
    "quiz_attempts"
   ]
  },
  {
   "cell_type": "markdown",
   "id": "cfc7675b",
   "metadata": {},
   "source": [
    "## Vedio history details"
   ]
  },
  {
   "cell_type": "code",
   "execution_count": 73,
   "id": "26123bc6",
   "metadata": {},
   "outputs": [],
   "source": [
    "watch_histoy = pd.read_csv('user_video_activity_data.csv')"
   ]
  },
  {
   "cell_type": "code",
   "execution_count": 76,
   "id": "cab8374f",
   "metadata": {},
   "outputs": [
    {
     "data": {
      "text/plain": [
       "(12907, 6)"
      ]
     },
     "execution_count": 76,
     "metadata": {},
     "output_type": "execute_result"
    }
   ],
   "source": [
    "watch_histoy.shape"
   ]
  },
  {
   "cell_type": "code",
   "execution_count": 77,
   "id": "3bb190e7",
   "metadata": {},
   "outputs": [
    {
     "data": {
      "text/html": [
       "<div>\n",
       "<style scoped>\n",
       "    .dataframe tbody tr th:only-of-type {\n",
       "        vertical-align: middle;\n",
       "    }\n",
       "\n",
       "    .dataframe tbody tr th {\n",
       "        vertical-align: top;\n",
       "    }\n",
       "\n",
       "    .dataframe thead th {\n",
       "        text-align: right;\n",
       "    }\n",
       "</style>\n",
       "<table border=\"1\" class=\"dataframe\">\n",
       "  <thead>\n",
       "    <tr style=\"text-align: right;\">\n",
       "      <th></th>\n",
       "      <th>user_id</th>\n",
       "      <th>watch_instance_id</th>\n",
       "      <th>watched_at</th>\n",
       "      <th>video_id</th>\n",
       "      <th>duration</th>\n",
       "      <th>watched_duration</th>\n",
       "    </tr>\n",
       "  </thead>\n",
       "  <tbody>\n",
       "    <tr>\n",
       "      <th>0</th>\n",
       "      <td>6</td>\n",
       "      <td>24552452</td>\n",
       "      <td>2021-06-12 18:13:40.347392+00:00</td>\n",
       "      <td>25261</td>\n",
       "      <td>934</td>\n",
       "      <td>2</td>\n",
       "    </tr>\n",
       "    <tr>\n",
       "      <th>1</th>\n",
       "      <td>6</td>\n",
       "      <td>24552735</td>\n",
       "      <td>2021-06-12 18:21:45.362998+00:00</td>\n",
       "      <td>25262</td>\n",
       "      <td>398</td>\n",
       "      <td>398</td>\n",
       "    </tr>\n",
       "    <tr>\n",
       "      <th>2</th>\n",
       "      <td>6</td>\n",
       "      <td>24011079</td>\n",
       "      <td>2021-06-04 18:27:01.296468+00:00</td>\n",
       "      <td>24920</td>\n",
       "      <td>1589</td>\n",
       "      <td>55</td>\n",
       "    </tr>\n",
       "    <tr>\n",
       "      <th>3</th>\n",
       "      <td>6</td>\n",
       "      <td>24011800</td>\n",
       "      <td>2021-06-04 18:51:27.450857+00:00</td>\n",
       "      <td>24531</td>\n",
       "      <td>319</td>\n",
       "      <td>28</td>\n",
       "    </tr>\n",
       "    <tr>\n",
       "      <th>4</th>\n",
       "      <td>6</td>\n",
       "      <td>24249571</td>\n",
       "      <td>2021-06-08 11:19:02.187747+00:00</td>\n",
       "      <td>32825</td>\n",
       "      <td>317</td>\n",
       "      <td>15</td>\n",
       "    </tr>\n",
       "  </tbody>\n",
       "</table>\n",
       "</div>"
      ],
      "text/plain": [
       "   user_id  watch_instance_id                        watched_at  video_id  \\\n",
       "0        6           24552452  2021-06-12 18:13:40.347392+00:00     25261   \n",
       "1        6           24552735  2021-06-12 18:21:45.362998+00:00     25262   \n",
       "2        6           24011079  2021-06-04 18:27:01.296468+00:00     24920   \n",
       "3        6           24011800  2021-06-04 18:51:27.450857+00:00     24531   \n",
       "4        6           24249571  2021-06-08 11:19:02.187747+00:00     32825   \n",
       "\n",
       "   duration  watched_duration  \n",
       "0       934                 2  \n",
       "1       398               398  \n",
       "2      1589                55  \n",
       "3       319                28  \n",
       "4       317                15  "
      ]
     },
     "execution_count": 77,
     "metadata": {},
     "output_type": "execute_result"
    }
   ],
   "source": [
    "watch_histoy.head()"
   ]
  },
  {
   "cell_type": "code",
   "execution_count": 79,
   "id": "0064a273",
   "metadata": {},
   "outputs": [],
   "source": [
    "watch_histoy = watch_histoy[['user_id','duration','watched_duration']]"
   ]
  },
  {
   "cell_type": "code",
   "execution_count": 81,
   "id": "15d94b53",
   "metadata": {},
   "outputs": [
    {
     "data": {
      "text/plain": [
       "(21789, 9)"
      ]
     },
     "execution_count": 81,
     "metadata": {},
     "output_type": "execute_result"
    }
   ],
   "source": [
    "comb_data1.shape"
   ]
  },
  {
   "cell_type": "code",
   "execution_count": 113,
   "id": "9193ea2b",
   "metadata": {},
   "outputs": [],
   "source": [
    "user1['paid_user']=user1.date_of_first_purhcase.notnull()"
   ]
  },
  {
   "cell_type": "code",
   "execution_count": 114,
   "id": "5ce580bc",
   "metadata": {},
   "outputs": [
    {
     "data": {
      "text/html": [
       "<div>\n",
       "<style scoped>\n",
       "    .dataframe tbody tr th:only-of-type {\n",
       "        vertical-align: middle;\n",
       "    }\n",
       "\n",
       "    .dataframe tbody tr th {\n",
       "        vertical-align: top;\n",
       "    }\n",
       "\n",
       "    .dataframe thead th {\n",
       "        text-align: right;\n",
       "    }\n",
       "</style>\n",
       "<table border=\"1\" class=\"dataframe\">\n",
       "  <thead>\n",
       "    <tr style=\"text-align: right;\">\n",
       "      <th></th>\n",
       "      <th>user_id</th>\n",
       "      <th>date_joined</th>\n",
       "      <th>date_of_first_purhcase</th>\n",
       "      <th>paid_user</th>\n",
       "    </tr>\n",
       "  </thead>\n",
       "  <tbody>\n",
       "    <tr>\n",
       "      <th>0</th>\n",
       "      <td>6</td>\n",
       "      <td>2021-06-04</td>\n",
       "      <td>2021-06-04</td>\n",
       "      <td>True</td>\n",
       "    </tr>\n",
       "    <tr>\n",
       "      <th>1</th>\n",
       "      <td>608</td>\n",
       "      <td>2021-06-04</td>\n",
       "      <td>NaN</td>\n",
       "      <td>False</td>\n",
       "    </tr>\n",
       "    <tr>\n",
       "      <th>2</th>\n",
       "      <td>635</td>\n",
       "      <td>2021-06-04</td>\n",
       "      <td>NaN</td>\n",
       "      <td>False</td>\n",
       "    </tr>\n",
       "    <tr>\n",
       "      <th>3</th>\n",
       "      <td>745</td>\n",
       "      <td>2021-06-04</td>\n",
       "      <td>NaN</td>\n",
       "      <td>False</td>\n",
       "    </tr>\n",
       "    <tr>\n",
       "      <th>4</th>\n",
       "      <td>1506</td>\n",
       "      <td>2021-06-04</td>\n",
       "      <td>NaN</td>\n",
       "      <td>False</td>\n",
       "    </tr>\n",
       "  </tbody>\n",
       "</table>\n",
       "</div>"
      ],
      "text/plain": [
       "   user_id date_joined date_of_first_purhcase  paid_user\n",
       "0        6  2021-06-04             2021-06-04       True\n",
       "1      608  2021-06-04                    NaN      False\n",
       "2      635  2021-06-04                    NaN      False\n",
       "3      745  2021-06-04                    NaN      False\n",
       "4     1506  2021-06-04                    NaN      False"
      ]
     },
     "execution_count": 114,
     "metadata": {},
     "output_type": "execute_result"
    }
   ],
   "source": [
    "user1.head()"
   ]
  },
  {
   "cell_type": "code",
   "execution_count": 158,
   "id": "cec7fa24",
   "metadata": {},
   "outputs": [],
   "source": [
    "vedio_data = pd.merge(user1,watch_histoy,how = 'left', on = 'user_id',indicator=True)"
   ]
  },
  {
   "cell_type": "code",
   "execution_count": 159,
   "id": "0491377d",
   "metadata": {},
   "outputs": [
    {
     "data": {
      "text/plain": [
       "(13152, 7)"
      ]
     },
     "execution_count": 159,
     "metadata": {},
     "output_type": "execute_result"
    }
   ],
   "source": [
    "vedio_data.shape"
   ]
  },
  {
   "cell_type": "code",
   "execution_count": 160,
   "id": "686e1668",
   "metadata": {},
   "outputs": [
    {
     "data": {
      "text/html": [
       "<div>\n",
       "<style scoped>\n",
       "    .dataframe tbody tr th:only-of-type {\n",
       "        vertical-align: middle;\n",
       "    }\n",
       "\n",
       "    .dataframe tbody tr th {\n",
       "        vertical-align: top;\n",
       "    }\n",
       "\n",
       "    .dataframe thead th {\n",
       "        text-align: right;\n",
       "    }\n",
       "</style>\n",
       "<table border=\"1\" class=\"dataframe\">\n",
       "  <thead>\n",
       "    <tr style=\"text-align: right;\">\n",
       "      <th></th>\n",
       "      <th>user_id</th>\n",
       "      <th>date_joined</th>\n",
       "      <th>date_of_first_purhcase</th>\n",
       "      <th>paid_user</th>\n",
       "      <th>duration</th>\n",
       "      <th>watched_duration</th>\n",
       "      <th>_merge</th>\n",
       "    </tr>\n",
       "  </thead>\n",
       "  <tbody>\n",
       "    <tr>\n",
       "      <th>0</th>\n",
       "      <td>6</td>\n",
       "      <td>2021-06-04</td>\n",
       "      <td>2021-06-04</td>\n",
       "      <td>True</td>\n",
       "      <td>934.0</td>\n",
       "      <td>2.0</td>\n",
       "      <td>both</td>\n",
       "    </tr>\n",
       "    <tr>\n",
       "      <th>1</th>\n",
       "      <td>6</td>\n",
       "      <td>2021-06-04</td>\n",
       "      <td>2021-06-04</td>\n",
       "      <td>True</td>\n",
       "      <td>398.0</td>\n",
       "      <td>398.0</td>\n",
       "      <td>both</td>\n",
       "    </tr>\n",
       "    <tr>\n",
       "      <th>2</th>\n",
       "      <td>6</td>\n",
       "      <td>2021-06-04</td>\n",
       "      <td>2021-06-04</td>\n",
       "      <td>True</td>\n",
       "      <td>1589.0</td>\n",
       "      <td>55.0</td>\n",
       "      <td>both</td>\n",
       "    </tr>\n",
       "    <tr>\n",
       "      <th>3</th>\n",
       "      <td>6</td>\n",
       "      <td>2021-06-04</td>\n",
       "      <td>2021-06-04</td>\n",
       "      <td>True</td>\n",
       "      <td>319.0</td>\n",
       "      <td>28.0</td>\n",
       "      <td>both</td>\n",
       "    </tr>\n",
       "    <tr>\n",
       "      <th>4</th>\n",
       "      <td>6</td>\n",
       "      <td>2021-06-04</td>\n",
       "      <td>2021-06-04</td>\n",
       "      <td>True</td>\n",
       "      <td>317.0</td>\n",
       "      <td>15.0</td>\n",
       "      <td>both</td>\n",
       "    </tr>\n",
       "  </tbody>\n",
       "</table>\n",
       "</div>"
      ],
      "text/plain": [
       "   user_id date_joined date_of_first_purhcase  paid_user  duration  \\\n",
       "0        6  2021-06-04             2021-06-04       True     934.0   \n",
       "1        6  2021-06-04             2021-06-04       True     398.0   \n",
       "2        6  2021-06-04             2021-06-04       True    1589.0   \n",
       "3        6  2021-06-04             2021-06-04       True     319.0   \n",
       "4        6  2021-06-04             2021-06-04       True     317.0   \n",
       "\n",
       "   watched_duration _merge  \n",
       "0               2.0   both  \n",
       "1             398.0   both  \n",
       "2              55.0   both  \n",
       "3              28.0   both  \n",
       "4              15.0   both  "
      ]
     },
     "execution_count": 160,
     "metadata": {},
     "output_type": "execute_result"
    }
   ],
   "source": [
    "vedio_data.head()"
   ]
  },
  {
   "cell_type": "code",
   "execution_count": 162,
   "id": "3db48708",
   "metadata": {},
   "outputs": [
    {
     "data": {
      "text/plain": [
       "both          12907\n",
       "left_only       245\n",
       "right_only        0\n",
       "Name: _merge, dtype: int64"
      ]
     },
     "execution_count": 162,
     "metadata": {},
     "output_type": "execute_result"
    }
   ],
   "source": [
    "vedio_data._merge.value_counts()"
   ]
  },
  {
   "cell_type": "code",
   "execution_count": 164,
   "id": "d95e15b6",
   "metadata": {},
   "outputs": [
    {
     "data": {
      "text/plain": [
       "755"
      ]
     },
     "execution_count": 164,
     "metadata": {},
     "output_type": "execute_result"
    }
   ],
   "source": [
    "vedio_data[vedio_data._merge == 'both'].user_id.nunique()"
   ]
  },
  {
   "cell_type": "markdown",
   "id": "abceaa60",
   "metadata": {},
   "source": [
    "vedio details is available only for 755 users"
   ]
  },
  {
   "cell_type": "code",
   "execution_count": 121,
   "id": "56f02e85",
   "metadata": {},
   "outputs": [
    {
     "data": {
      "text/plain": [
       "paid_user\n",
       "False    5748.0\n",
       "True     8514.0\n",
       "Name: duration, dtype: float64"
      ]
     },
     "execution_count": 121,
     "metadata": {},
     "output_type": "execute_result"
    }
   ],
   "source": [
    "vedio_data.duration.groupby(vedio_data.paid_user).max()"
   ]
  },
  {
   "cell_type": "code",
   "execution_count": 122,
   "id": "8c6915da",
   "metadata": {},
   "outputs": [
    {
     "data": {
      "text/plain": [
       "paid_user\n",
       "False    0.0\n",
       "True     0.0\n",
       "Name: duration, dtype: float64"
      ]
     },
     "execution_count": 122,
     "metadata": {},
     "output_type": "execute_result"
    }
   ],
   "source": [
    "vedio_data.duration.groupby(vedio_data.paid_user).min()"
   ]
  },
  {
   "cell_type": "markdown",
   "id": "03961e33",
   "metadata": {},
   "source": [
    "more vedio content is available for paid users"
   ]
  },
  {
   "cell_type": "code",
   "execution_count": 120,
   "id": "ceaf038c",
   "metadata": {},
   "outputs": [
    {
     "data": {
      "text/plain": [
       "[Text(0.5, 1.0, 'Paid v/s unpaid')]"
      ]
     },
     "execution_count": 120,
     "metadata": {},
     "output_type": "execute_result"
    },
    {
     "data": {
      "image/png": "[encoded data removed]",
      "text/plain": [
       "<Figure size 432x288 with 1 Axes>"
      ]
     },
     "metadata": {
      "needs_background": "light"
     },
     "output_type": "display_data"
    }
   ],
   "source": [
    "sns.boxplot(x=\"paid_user\", y=\"duration\", data=vedio_data).set(title = 'Paid v/s unpaid')"
   ]
  },
  {
   "cell_type": "code",
   "execution_count": 103,
   "id": "ab134b3e",
   "metadata": {},
   "outputs": [
    {
     "data": {
      "text/plain": [
       "[Text(0.5, 1.0, 'Distibution of Vedio Duration')]"
      ]
     },
     "execution_count": 103,
     "metadata": {},
     "output_type": "execute_result"
    },
    {
     "data": {
      "image/png": "[encoded data removed]",
      "text/plain": [
       "<Figure size 432x288 with 1 Axes>"
      ]
     },
     "metadata": {
      "needs_background": "light"
     },
     "output_type": "display_data"
    }
   ],
   "source": [
    "sns.histplot(data = vedio_data,x='duration',bins = 20,binwidth=500,hue='paid_user').set(title = 'Distibution of Vedio Duration')"
   ]
  },
  {
   "cell_type": "code",
   "execution_count": 106,
   "id": "e197f4b3",
   "metadata": {},
   "outputs": [
    {
     "data": {
      "text/plain": [
       "[Text(0.5, 1.0, 'Distibution of Vedio Duration for unpaid users')]"
      ]
     },
     "execution_count": 106,
     "metadata": {},
     "output_type": "execute_result"
    },
    {
     "data": {
      "image/png": "[encoded data removed]",
      "text/plain": [
       "<Figure size 432x288 with 1 Axes>"
      ]
     },
     "metadata": {
      "needs_background": "light"
     },
     "output_type": "display_data"
    }
   ],
   "source": [
    "sns.histplot(data = vedio_data[vedio_data['paid_user']==True],x='duration',bins = 20,binwidth=500,hue='paid_user').set(title = 'Distibution of Vedio Duration for unpaid users')"
   ]
  },
  {
   "cell_type": "code",
   "execution_count": 108,
   "id": "c4f7d389",
   "metadata": {},
   "outputs": [
    {
     "data": {
      "text/plain": [
       "[Text(0.5, 1.0, 'Distibution of Vedio Duration for unpaid users')]"
      ]
     },
     "execution_count": 108,
     "metadata": {},
     "output_type": "execute_result"
    },
    {
     "data": {
      "image/png": "[encoded data removed]",
      "text/plain": [
       "<Figure size 432x288 with 1 Axes>"
      ]
     },
     "metadata": {
      "needs_background": "light"
     },
     "output_type": "display_data"
    }
   ],
   "source": [
    "sns.histplot(data = vedio_data[vedio_data['paid_user']==False],x='duration',bins = 20,binwidth=500,hue='paid_user').set(title = 'Distibution of Vedio Duration for unpaid users')"
   ]
  },
  {
   "cell_type": "code",
   "execution_count": 109,
   "id": "03d1cf36",
   "metadata": {},
   "outputs": [
    {
     "data": {
      "text/plain": [
       "[Text(0.5, 1.0, 'Distibution of Vedio Duration for unpaid users')]"
      ]
     },
     "execution_count": 109,
     "metadata": {},
     "output_type": "execute_result"
    },
    {
     "data": {
      "image/png": "[encoded data removed]",
      "text/plain": [
       "<Figure size 432x288 with 1 Axes>"
      ]
     },
     "metadata": {
      "needs_background": "light"
     },
     "output_type": "display_data"
    }
   ],
   "source": [
    "sns.histplot(data = vedio_data,x='watched_duration',bins = 20,binwidth=500,hue='paid_user').set(title = 'Distibution of Vedio Duration for unpaid users')"
   ]
  },
  {
   "cell_type": "code",
   "execution_count": 111,
   "id": "935df6d4",
   "metadata": {},
   "outputs": [
    {
     "data": {
      "text/plain": [
       "[Text(0.5, 1.0, 'Distibution of Vedio watched duration for paid users')]"
      ]
     },
     "execution_count": 111,
     "metadata": {},
     "output_type": "execute_result"
    },
    {
     "data": {
      "image/png": "[encoded data removed]",
      "text/plain": [
       "<Figure size 432x288 with 1 Axes>"
      ]
     },
     "metadata": {
      "needs_background": "light"
     },
     "output_type": "display_data"
    }
   ],
   "source": [
    "sns.histplot(data = vedio_data[vedio_data['paid_user']==True],x='watched_duration',bins = 20,binwidth=500,hue='paid_user').set(title = 'Distibution of Vedio watched duration for paid users')"
   ]
  },
  {
   "cell_type": "code",
   "execution_count": 112,
   "id": "73585749",
   "metadata": {},
   "outputs": [
    {
     "data": {
      "text/plain": [
       "[Text(0.5, 1.0, 'Distibution of Vedio watched duration for unpaid users')]"
      ]
     },
     "execution_count": 112,
     "metadata": {},
     "output_type": "execute_result"
    },
    {
     "data": {
      "image/png": "[encoded data removed]",
      "text/plain": [
       "<Figure size 432x288 with 1 Axes>"
      ]
     },
     "metadata": {
      "needs_background": "light"
     },
     "output_type": "display_data"
    }
   ],
   "source": [
    "sns.histplot(data = vedio_data[vedio_data['paid_user']==False],x='watched_duration',bins = 20,binwidth=500,hue='paid_user').set(title = 'Distibution of Vedio watched duration for unpaid users')"
   ]
  },
  {
   "cell_type": "code",
   "execution_count": 127,
   "id": "10bfcd35",
   "metadata": {},
   "outputs": [
    {
     "data": {
      "text/plain": [
       "paid_user\n",
       "False     193751.0\n",
       "True     6018156.0\n",
       "Name: watched_duration, dtype: float64"
      ]
     },
     "execution_count": 127,
     "metadata": {},
     "output_type": "execute_result"
    }
   ],
   "source": [
    "vedio_data.watched_duration.groupby(vedio_data.paid_user).agg('sum')"
   ]
  },
  {
   "cell_type": "code",
   "execution_count": 128,
   "id": "8ca0c632",
   "metadata": {},
   "outputs": [
    {
     "data": {
      "text/plain": [
       "paid_user\n",
       "False    320.249587\n",
       "True     489.201431\n",
       "Name: watched_duration, dtype: float64"
      ]
     },
     "execution_count": 128,
     "metadata": {},
     "output_type": "execute_result"
    }
   ],
   "source": [
    "vedio_data.watched_duration.groupby(vedio_data.paid_user).agg('mean')"
   ]
  },
  {
   "cell_type": "markdown",
   "id": "acd28a10",
   "metadata": {},
   "source": [
    "## study card Details"
   ]
  },
  {
   "cell_type": "code",
   "execution_count": 130,
   "id": "874ac3c7",
   "metadata": {},
   "outputs": [],
   "source": [
    "studycard = pd.read_csv('user_studycard_data.csv')"
   ]
  },
  {
   "cell_type": "code",
   "execution_count": 131,
   "id": "a2bc80a1",
   "metadata": {},
   "outputs": [
    {
     "data": {
      "text/plain": [
       "(3480, 3)"
      ]
     },
     "execution_count": 131,
     "metadata": {},
     "output_type": "execute_result"
    }
   ],
   "source": [
    "studycard.shape"
   ]
  },
  {
   "cell_type": "code",
   "execution_count": 132,
   "id": "f01cf91e",
   "metadata": {},
   "outputs": [
    {
     "data": {
      "text/html": [
       "<div>\n",
       "<style scoped>\n",
       "    .dataframe tbody tr th:only-of-type {\n",
       "        vertical-align: middle;\n",
       "    }\n",
       "\n",
       "    .dataframe tbody tr th {\n",
       "        vertical-align: top;\n",
       "    }\n",
       "\n",
       "    .dataframe thead th {\n",
       "        text-align: right;\n",
       "    }\n",
       "</style>\n",
       "<table border=\"1\" class=\"dataframe\">\n",
       "  <thead>\n",
       "    <tr style=\"text-align: right;\">\n",
       "      <th></th>\n",
       "      <th>user_id</th>\n",
       "      <th>activity_id</th>\n",
       "      <th>start_time</th>\n",
       "    </tr>\n",
       "  </thead>\n",
       "  <tbody>\n",
       "    <tr>\n",
       "      <th>0</th>\n",
       "      <td>1642</td>\n",
       "      <td>4197126</td>\n",
       "      <td>2021-06-04 16:51:51.454473+00:00</td>\n",
       "    </tr>\n",
       "    <tr>\n",
       "      <th>1</th>\n",
       "      <td>1642</td>\n",
       "      <td>4197075</td>\n",
       "      <td>2021-06-04 16:43:10.115201+00:00</td>\n",
       "    </tr>\n",
       "    <tr>\n",
       "      <th>2</th>\n",
       "      <td>1642</td>\n",
       "      <td>4197074</td>\n",
       "      <td>2021-06-04 16:43:10.082261+00:00</td>\n",
       "    </tr>\n",
       "    <tr>\n",
       "      <th>3</th>\n",
       "      <td>1642</td>\n",
       "      <td>4197577</td>\n",
       "      <td>2021-06-04 18:20:58.487196+00:00</td>\n",
       "    </tr>\n",
       "    <tr>\n",
       "      <th>4</th>\n",
       "      <td>1642</td>\n",
       "      <td>4197174</td>\n",
       "      <td>2021-06-04 16:57:46.487970+00:00</td>\n",
       "    </tr>\n",
       "  </tbody>\n",
       "</table>\n",
       "</div>"
      ],
      "text/plain": [
       "   user_id  activity_id                        start_time\n",
       "0     1642      4197126  2021-06-04 16:51:51.454473+00:00\n",
       "1     1642      4197075  2021-06-04 16:43:10.115201+00:00\n",
       "2     1642      4197074  2021-06-04 16:43:10.082261+00:00\n",
       "3     1642      4197577  2021-06-04 18:20:58.487196+00:00\n",
       "4     1642      4197174  2021-06-04 16:57:46.487970+00:00"
      ]
     },
     "execution_count": 132,
     "metadata": {},
     "output_type": "execute_result"
    }
   ],
   "source": [
    "studycard.head()"
   ]
  },
  {
   "cell_type": "code",
   "execution_count": 133,
   "id": "e85bef00",
   "metadata": {},
   "outputs": [
    {
     "data": {
      "text/html": [
       "<div>\n",
       "<style scoped>\n",
       "    .dataframe tbody tr th:only-of-type {\n",
       "        vertical-align: middle;\n",
       "    }\n",
       "\n",
       "    .dataframe tbody tr th {\n",
       "        vertical-align: top;\n",
       "    }\n",
       "\n",
       "    .dataframe thead th {\n",
       "        text-align: right;\n",
       "    }\n",
       "</style>\n",
       "<table border=\"1\" class=\"dataframe\">\n",
       "  <thead>\n",
       "    <tr style=\"text-align: right;\">\n",
       "      <th></th>\n",
       "      <th>user_id</th>\n",
       "      <th>date_joined</th>\n",
       "      <th>date_of_first_purhcase</th>\n",
       "      <th>paid_user</th>\n",
       "    </tr>\n",
       "  </thead>\n",
       "  <tbody>\n",
       "    <tr>\n",
       "      <th>0</th>\n",
       "      <td>6</td>\n",
       "      <td>2021-06-04</td>\n",
       "      <td>2021-06-04</td>\n",
       "      <td>True</td>\n",
       "    </tr>\n",
       "    <tr>\n",
       "      <th>1</th>\n",
       "      <td>608</td>\n",
       "      <td>2021-06-04</td>\n",
       "      <td>NaN</td>\n",
       "      <td>False</td>\n",
       "    </tr>\n",
       "    <tr>\n",
       "      <th>2</th>\n",
       "      <td>635</td>\n",
       "      <td>2021-06-04</td>\n",
       "      <td>NaN</td>\n",
       "      <td>False</td>\n",
       "    </tr>\n",
       "    <tr>\n",
       "      <th>3</th>\n",
       "      <td>745</td>\n",
       "      <td>2021-06-04</td>\n",
       "      <td>NaN</td>\n",
       "      <td>False</td>\n",
       "    </tr>\n",
       "    <tr>\n",
       "      <th>4</th>\n",
       "      <td>1506</td>\n",
       "      <td>2021-06-04</td>\n",
       "      <td>NaN</td>\n",
       "      <td>False</td>\n",
       "    </tr>\n",
       "  </tbody>\n",
       "</table>\n",
       "</div>"
      ],
      "text/plain": [
       "   user_id date_joined date_of_first_purhcase  paid_user\n",
       "0        6  2021-06-04             2021-06-04       True\n",
       "1      608  2021-06-04                    NaN      False\n",
       "2      635  2021-06-04                    NaN      False\n",
       "3      745  2021-06-04                    NaN      False\n",
       "4     1506  2021-06-04                    NaN      False"
      ]
     },
     "execution_count": 133,
     "metadata": {},
     "output_type": "execute_result"
    }
   ],
   "source": [
    "user1.head()"
   ]
  },
  {
   "cell_type": "code",
   "execution_count": 149,
   "id": "f27fc311",
   "metadata": {},
   "outputs": [],
   "source": [
    "card_det =  pd.merge(user1,studycard,how = 'left',on = 'user_id',indicator=True)"
   ]
  },
  {
   "cell_type": "code",
   "execution_count": 150,
   "id": "60b38f49",
   "metadata": {},
   "outputs": [
    {
     "data": {
      "text/plain": [
       "(4094, 7)"
      ]
     },
     "execution_count": 150,
     "metadata": {},
     "output_type": "execute_result"
    }
   ],
   "source": [
    "card_det.shape"
   ]
  },
  {
   "cell_type": "code",
   "execution_count": 152,
   "id": "78324669",
   "metadata": {},
   "outputs": [
    {
     "data": {
      "text/plain": [
       "both          3480\n",
       "left_only      614\n",
       "right_only       0\n",
       "Name: _merge, dtype: int64"
      ]
     },
     "execution_count": 152,
     "metadata": {},
     "output_type": "execute_result"
    }
   ],
   "source": [
    "card_det._merge.value_counts()"
   ]
  },
  {
   "cell_type": "code",
   "execution_count": 155,
   "id": "b3027ed8",
   "metadata": {},
   "outputs": [
    {
     "data": {
      "text/plain": [
       "386"
      ]
     },
     "execution_count": 155,
     "metadata": {},
     "output_type": "execute_result"
    }
   ],
   "source": [
    "card_det[card_det._merge=='both'].user_id.nunique()"
   ]
  },
  {
   "cell_type": "markdown",
   "id": "60d6974b",
   "metadata": {},
   "source": [
    "study card details are available only for 386 users"
   ]
  },
  {
   "cell_type": "code",
   "execution_count": 148,
   "id": "5a1f71cc",
   "metadata": {},
   "outputs": [
    {
     "data": {
      "text/plain": [
       "paid_user\n",
       "False     155\n",
       "True     3325\n",
       "Name: activity_id, dtype: int64"
      ]
     },
     "execution_count": 148,
     "metadata": {},
     "output_type": "execute_result"
    }
   ],
   "source": [
    "card_det.activity_id.groupby(card_det.paid_user).agg('count')"
   ]
  },
  {
   "cell_type": "code",
   "execution_count": null,
   "id": "1f7cb995",
   "metadata": {},
   "outputs": [],
   "source": []
  }
 ],
 "metadata": {
  "kernelspec": {
   "display_name": "Python 3",
   "language": "python",
   "name": "python3"
  },
  "language_info": {
   "codemirror_mode": {
    "name": "ipython",
    "version": 3
   },
   "file_extension": ".py",
   "mimetype": "text/x-python",
   "name": "python",
   "nbconvert_exporter": "python",
   "pygments_lexer": "ipython3",
   "version": "3.8.8"
  }
 },
 "nbformat": 4,
 "nbformat_minor": 5
}
